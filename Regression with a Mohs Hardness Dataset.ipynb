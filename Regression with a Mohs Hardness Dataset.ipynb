{
 "cells": [
  {
   "cell_type": "code",
   "execution_count": 132,
   "id": "f1ef0aba",
   "metadata": {},
   "outputs": [],
   "source": [
    "import pandas as pd\n",
    "import numpy as np\n",
    "import matplotlib.pyplot as plt\n",
    "from sklearn.model_selection import train_test_split\n",
    "from sklearn.linear_model import LinearRegression\n",
    "from sklearn.metrics import mean_squared_error, r2_score\n",
    "from sklearn.metrics import median_absolute_error"
   ]
  },
  {
   "cell_type": "code",
   "execution_count": 133,
   "id": "0a0f1ba7",
   "metadata": {},
   "outputs": [
    {
     "data": {
      "text/html": [
       "<div>\n",
       "<style scoped>\n",
       "    .dataframe tbody tr th:only-of-type {\n",
       "        vertical-align: middle;\n",
       "    }\n",
       "\n",
       "    .dataframe tbody tr th {\n",
       "        vertical-align: top;\n",
       "    }\n",
       "\n",
       "    .dataframe thead th {\n",
       "        text-align: right;\n",
       "    }\n",
       "</style>\n",
       "<table border=\"1\" class=\"dataframe\">\n",
       "  <thead>\n",
       "    <tr style=\"text-align: right;\">\n",
       "      <th></th>\n",
       "      <th>id</th>\n",
       "      <th>allelectrons_Total</th>\n",
       "      <th>density_Total</th>\n",
       "      <th>allelectrons_Average</th>\n",
       "      <th>val_e_Average</th>\n",
       "      <th>atomicweight_Average</th>\n",
       "      <th>ionenergy_Average</th>\n",
       "      <th>el_neg_chi_Average</th>\n",
       "      <th>R_vdw_element_Average</th>\n",
       "      <th>R_cov_element_Average</th>\n",
       "      <th>zaratio_Average</th>\n",
       "      <th>density_Average</th>\n",
       "      <th>Hardness</th>\n",
       "    </tr>\n",
       "  </thead>\n",
       "  <tbody>\n",
       "    <tr>\n",
       "      <th>0</th>\n",
       "      <td>0</td>\n",
       "      <td>100.0</td>\n",
       "      <td>0.841611</td>\n",
       "      <td>10.0</td>\n",
       "      <td>4.8</td>\n",
       "      <td>20.612526</td>\n",
       "      <td>11.08810</td>\n",
       "      <td>2.766</td>\n",
       "      <td>1.732</td>\n",
       "      <td>0.860</td>\n",
       "      <td>0.496070</td>\n",
       "      <td>0.91457</td>\n",
       "      <td>6.0</td>\n",
       "    </tr>\n",
       "    <tr>\n",
       "      <th>1</th>\n",
       "      <td>1</td>\n",
       "      <td>100.0</td>\n",
       "      <td>7.558488</td>\n",
       "      <td>10.0</td>\n",
       "      <td>4.8</td>\n",
       "      <td>20.298893</td>\n",
       "      <td>12.04083</td>\n",
       "      <td>2.755</td>\n",
       "      <td>1.631</td>\n",
       "      <td>0.910</td>\n",
       "      <td>0.492719</td>\n",
       "      <td>0.71760</td>\n",
       "      <td>6.5</td>\n",
       "    </tr>\n",
       "    <tr>\n",
       "      <th>2</th>\n",
       "      <td>2</td>\n",
       "      <td>76.0</td>\n",
       "      <td>8.885992</td>\n",
       "      <td>15.6</td>\n",
       "      <td>5.6</td>\n",
       "      <td>33.739258</td>\n",
       "      <td>12.08630</td>\n",
       "      <td>2.828</td>\n",
       "      <td>1.788</td>\n",
       "      <td>0.864</td>\n",
       "      <td>0.481478</td>\n",
       "      <td>1.50633</td>\n",
       "      <td>2.5</td>\n",
       "    </tr>\n",
       "    <tr>\n",
       "      <th>3</th>\n",
       "      <td>3</td>\n",
       "      <td>100.0</td>\n",
       "      <td>8.795296</td>\n",
       "      <td>10.0</td>\n",
       "      <td>4.8</td>\n",
       "      <td>20.213349</td>\n",
       "      <td>10.94850</td>\n",
       "      <td>2.648</td>\n",
       "      <td>1.626</td>\n",
       "      <td>0.936</td>\n",
       "      <td>0.489272</td>\n",
       "      <td>0.78937</td>\n",
       "      <td>6.0</td>\n",
       "    </tr>\n",
       "    <tr>\n",
       "      <th>4</th>\n",
       "      <td>4</td>\n",
       "      <td>116.0</td>\n",
       "      <td>9.577996</td>\n",
       "      <td>11.6</td>\n",
       "      <td>4.8</td>\n",
       "      <td>24.988133</td>\n",
       "      <td>11.82448</td>\n",
       "      <td>2.766</td>\n",
       "      <td>1.682</td>\n",
       "      <td>0.896</td>\n",
       "      <td>0.492736</td>\n",
       "      <td>1.86481</td>\n",
       "      <td>6.0</td>\n",
       "    </tr>\n",
       "  </tbody>\n",
       "</table>\n",
       "</div>"
      ],
      "text/plain": [
       "   id  allelectrons_Total  density_Total  allelectrons_Average  val_e_Average   \n",
       "0   0               100.0       0.841611                  10.0            4.8  \\\n",
       "1   1               100.0       7.558488                  10.0            4.8   \n",
       "2   2                76.0       8.885992                  15.6            5.6   \n",
       "3   3               100.0       8.795296                  10.0            4.8   \n",
       "4   4               116.0       9.577996                  11.6            4.8   \n",
       "\n",
       "   atomicweight_Average  ionenergy_Average  el_neg_chi_Average   \n",
       "0             20.612526           11.08810               2.766  \\\n",
       "1             20.298893           12.04083               2.755   \n",
       "2             33.739258           12.08630               2.828   \n",
       "3             20.213349           10.94850               2.648   \n",
       "4             24.988133           11.82448               2.766   \n",
       "\n",
       "   R_vdw_element_Average  R_cov_element_Average  zaratio_Average   \n",
       "0                  1.732                  0.860         0.496070  \\\n",
       "1                  1.631                  0.910         0.492719   \n",
       "2                  1.788                  0.864         0.481478   \n",
       "3                  1.626                  0.936         0.489272   \n",
       "4                  1.682                  0.896         0.492736   \n",
       "\n",
       "   density_Average  Hardness  \n",
       "0          0.91457       6.0  \n",
       "1          0.71760       6.5  \n",
       "2          1.50633       2.5  \n",
       "3          0.78937       6.0  \n",
       "4          1.86481       6.0  "
      ]
     },
     "execution_count": 133,
     "metadata": {},
     "output_type": "execute_result"
    }
   ],
   "source": [
    "train_data = pd.read_csv('train.csv')\n",
    "train_data.head()"
   ]
  },
  {
   "cell_type": "code",
   "execution_count": 134,
   "id": "95ebbfe6",
   "metadata": {},
   "outputs": [
    {
     "data": {
      "text/html": [
       "<div>\n",
       "<style scoped>\n",
       "    .dataframe tbody tr th:only-of-type {\n",
       "        vertical-align: middle;\n",
       "    }\n",
       "\n",
       "    .dataframe tbody tr th {\n",
       "        vertical-align: top;\n",
       "    }\n",
       "\n",
       "    .dataframe thead th {\n",
       "        text-align: right;\n",
       "    }\n",
       "</style>\n",
       "<table border=\"1\" class=\"dataframe\">\n",
       "  <thead>\n",
       "    <tr style=\"text-align: right;\">\n",
       "      <th></th>\n",
       "      <th>id</th>\n",
       "      <th>allelectrons_Total</th>\n",
       "      <th>density_Total</th>\n",
       "      <th>allelectrons_Average</th>\n",
       "      <th>val_e_Average</th>\n",
       "      <th>atomicweight_Average</th>\n",
       "      <th>ionenergy_Average</th>\n",
       "      <th>el_neg_chi_Average</th>\n",
       "      <th>R_vdw_element_Average</th>\n",
       "      <th>R_cov_element_Average</th>\n",
       "      <th>zaratio_Average</th>\n",
       "      <th>density_Average</th>\n",
       "      <th>Hardness</th>\n",
       "    </tr>\n",
       "  </thead>\n",
       "  <tbody>\n",
       "    <tr>\n",
       "      <th>count</th>\n",
       "      <td>10407.00000</td>\n",
       "      <td>10407.000000</td>\n",
       "      <td>10407.000000</td>\n",
       "      <td>10407.000000</td>\n",
       "      <td>10407.000000</td>\n",
       "      <td>10407.000000</td>\n",
       "      <td>10407.000000</td>\n",
       "      <td>10407.000000</td>\n",
       "      <td>10407.000000</td>\n",
       "      <td>10407.000000</td>\n",
       "      <td>10407.000000</td>\n",
       "      <td>10407.000000</td>\n",
       "      <td>10407.000000</td>\n",
       "    </tr>\n",
       "    <tr>\n",
       "      <th>mean</th>\n",
       "      <td>5203.00000</td>\n",
       "      <td>128.053516</td>\n",
       "      <td>14.491342</td>\n",
       "      <td>17.033222</td>\n",
       "      <td>4.546789</td>\n",
       "      <td>37.507703</td>\n",
       "      <td>10.938308</td>\n",
       "      <td>2.607662</td>\n",
       "      <td>1.731330</td>\n",
       "      <td>0.944132</td>\n",
       "      <td>0.493349</td>\n",
       "      <td>2.132984</td>\n",
       "      <td>4.647126</td>\n",
       "    </tr>\n",
       "    <tr>\n",
       "      <th>std</th>\n",
       "      <td>3004.38646</td>\n",
       "      <td>224.123776</td>\n",
       "      <td>15.972877</td>\n",
       "      <td>10.468734</td>\n",
       "      <td>0.690864</td>\n",
       "      <td>26.012313</td>\n",
       "      <td>1.408276</td>\n",
       "      <td>0.334906</td>\n",
       "      <td>0.192481</td>\n",
       "      <td>0.180017</td>\n",
       "      <td>0.063080</td>\n",
       "      <td>1.936656</td>\n",
       "      <td>1.680525</td>\n",
       "    </tr>\n",
       "    <tr>\n",
       "      <th>min</th>\n",
       "      <td>0.00000</td>\n",
       "      <td>0.000000</td>\n",
       "      <td>0.000000</td>\n",
       "      <td>0.000000</td>\n",
       "      <td>0.000000</td>\n",
       "      <td>0.000000</td>\n",
       "      <td>0.000000</td>\n",
       "      <td>0.000000</td>\n",
       "      <td>0.000000</td>\n",
       "      <td>0.000000</td>\n",
       "      <td>0.000000</td>\n",
       "      <td>0.000000</td>\n",
       "      <td>1.000000</td>\n",
       "    </tr>\n",
       "    <tr>\n",
       "      <th>25%</th>\n",
       "      <td>2601.50000</td>\n",
       "      <td>68.000000</td>\n",
       "      <td>7.558488</td>\n",
       "      <td>10.000000</td>\n",
       "      <td>4.000000</td>\n",
       "      <td>20.298893</td>\n",
       "      <td>10.590660</td>\n",
       "      <td>2.530000</td>\n",
       "      <td>1.672500</td>\n",
       "      <td>0.864000</td>\n",
       "      <td>0.476196</td>\n",
       "      <td>0.814800</td>\n",
       "      <td>3.000000</td>\n",
       "    </tr>\n",
       "    <tr>\n",
       "      <th>50%</th>\n",
       "      <td>5203.00000</td>\n",
       "      <td>100.000000</td>\n",
       "      <td>10.650000</td>\n",
       "      <td>12.600000</td>\n",
       "      <td>4.714286</td>\n",
       "      <td>26.203827</td>\n",
       "      <td>11.202760</td>\n",
       "      <td>2.706000</td>\n",
       "      <td>1.732727</td>\n",
       "      <td>0.915556</td>\n",
       "      <td>0.488550</td>\n",
       "      <td>1.351550</td>\n",
       "      <td>5.500000</td>\n",
       "    </tr>\n",
       "    <tr>\n",
       "      <th>75%</th>\n",
       "      <td>7804.50000</td>\n",
       "      <td>131.000000</td>\n",
       "      <td>16.676996</td>\n",
       "      <td>22.000000</td>\n",
       "      <td>4.800000</td>\n",
       "      <td>48.719500</td>\n",
       "      <td>11.670725</td>\n",
       "      <td>2.805000</td>\n",
       "      <td>1.800000</td>\n",
       "      <td>0.981667</td>\n",
       "      <td>0.496070</td>\n",
       "      <td>2.741550</td>\n",
       "      <td>6.000000</td>\n",
       "    </tr>\n",
       "    <tr>\n",
       "      <th>max</th>\n",
       "      <td>10406.00000</td>\n",
       "      <td>15300.000000</td>\n",
       "      <td>643.093804</td>\n",
       "      <td>67.000000</td>\n",
       "      <td>6.000000</td>\n",
       "      <td>167.400000</td>\n",
       "      <td>15.245810</td>\n",
       "      <td>3.443000</td>\n",
       "      <td>2.250000</td>\n",
       "      <td>1.615840</td>\n",
       "      <td>0.825990</td>\n",
       "      <td>10.970000</td>\n",
       "      <td>10.000000</td>\n",
       "    </tr>\n",
       "  </tbody>\n",
       "</table>\n",
       "</div>"
      ],
      "text/plain": [
       "                id  allelectrons_Total  density_Total  allelectrons_Average   \n",
       "count  10407.00000        10407.000000   10407.000000          10407.000000  \\\n",
       "mean    5203.00000          128.053516      14.491342             17.033222   \n",
       "std     3004.38646          224.123776      15.972877             10.468734   \n",
       "min        0.00000            0.000000       0.000000              0.000000   \n",
       "25%     2601.50000           68.000000       7.558488             10.000000   \n",
       "50%     5203.00000          100.000000      10.650000             12.600000   \n",
       "75%     7804.50000          131.000000      16.676996             22.000000   \n",
       "max    10406.00000        15300.000000     643.093804             67.000000   \n",
       "\n",
       "       val_e_Average  atomicweight_Average  ionenergy_Average   \n",
       "count   10407.000000          10407.000000       10407.000000  \\\n",
       "mean        4.546789             37.507703          10.938308   \n",
       "std         0.690864             26.012313           1.408276   \n",
       "min         0.000000              0.000000           0.000000   \n",
       "25%         4.000000             20.298893          10.590660   \n",
       "50%         4.714286             26.203827          11.202760   \n",
       "75%         4.800000             48.719500          11.670725   \n",
       "max         6.000000            167.400000          15.245810   \n",
       "\n",
       "       el_neg_chi_Average  R_vdw_element_Average  R_cov_element_Average   \n",
       "count        10407.000000           10407.000000           10407.000000  \\\n",
       "mean             2.607662               1.731330               0.944132   \n",
       "std              0.334906               0.192481               0.180017   \n",
       "min              0.000000               0.000000               0.000000   \n",
       "25%              2.530000               1.672500               0.864000   \n",
       "50%              2.706000               1.732727               0.915556   \n",
       "75%              2.805000               1.800000               0.981667   \n",
       "max              3.443000               2.250000               1.615840   \n",
       "\n",
       "       zaratio_Average  density_Average      Hardness  \n",
       "count     10407.000000     10407.000000  10407.000000  \n",
       "mean          0.493349         2.132984      4.647126  \n",
       "std           0.063080         1.936656      1.680525  \n",
       "min           0.000000         0.000000      1.000000  \n",
       "25%           0.476196         0.814800      3.000000  \n",
       "50%           0.488550         1.351550      5.500000  \n",
       "75%           0.496070         2.741550      6.000000  \n",
       "max           0.825990        10.970000     10.000000  "
      ]
     },
     "execution_count": 134,
     "metadata": {},
     "output_type": "execute_result"
    }
   ],
   "source": [
    "train_data.describe()"
   ]
  },
  {
   "cell_type": "code",
   "execution_count": 135,
   "id": "be4cba79",
   "metadata": {},
   "outputs": [
    {
     "name": "stdout",
     "output_type": "stream",
     "text": [
      "<class 'pandas.core.frame.DataFrame'>\n",
      "RangeIndex: 10407 entries, 0 to 10406\n",
      "Data columns (total 13 columns):\n",
      " #   Column                 Non-Null Count  Dtype  \n",
      "---  ------                 --------------  -----  \n",
      " 0   id                     10407 non-null  int64  \n",
      " 1   allelectrons_Total     10407 non-null  float64\n",
      " 2   density_Total          10407 non-null  float64\n",
      " 3   allelectrons_Average   10407 non-null  float64\n",
      " 4   val_e_Average          10407 non-null  float64\n",
      " 5   atomicweight_Average   10407 non-null  float64\n",
      " 6   ionenergy_Average      10407 non-null  float64\n",
      " 7   el_neg_chi_Average     10407 non-null  float64\n",
      " 8   R_vdw_element_Average  10407 non-null  float64\n",
      " 9   R_cov_element_Average  10407 non-null  float64\n",
      " 10  zaratio_Average        10407 non-null  float64\n",
      " 11  density_Average        10407 non-null  float64\n",
      " 12  Hardness               10407 non-null  float64\n",
      "dtypes: float64(12), int64(1)\n",
      "memory usage: 1.0 MB\n",
      "None\n"
     ]
    }
   ],
   "source": [
    "print(train_data.info())"
   ]
  },
  {
   "cell_type": "code",
   "execution_count": 136,
   "id": "02405054",
   "metadata": {},
   "outputs": [
    {
     "name": "stdout",
     "output_type": "stream",
     "text": [
      "Columns with missing data:\n",
      "Series([], dtype: int64)\n"
     ]
    }
   ],
   "source": [
    "# Check for missing data in train_data\n",
    "missing_data = train_data.isnull().sum()\n",
    "\n",
    "# Display columns with missing data and the corresponding count\n",
    "print(\"Columns with missing data:\")\n",
    "print(missing_data[missing_data > 0])"
   ]
  },
  {
   "cell_type": "code",
   "execution_count": 137,
   "id": "ecff80f4",
   "metadata": {},
   "outputs": [
    {
     "data": {
      "image/png": "[encoded data removed]",
      "text/plain": [
       "<Figure size 1200x1000 with 2 Axes>"
      ]
     },
     "metadata": {},
     "output_type": "display_data"
    }
   ],
   "source": [
    "import seaborn as sns\n",
    "\n",
    "# Calculate and visualize correlation matrix\n",
    "correlation_matrix = train_data.corr()\n",
    "\n",
    "# Set up the matplotlib figure\n",
    "plt.figure(figsize=(12, 10))\n",
    "\n",
    "# Create a heatmap with column names on both axes\n",
    "sns.heatmap(correlation_matrix, annot=True, cmap='coolwarm', fmt=\".2f\", linewidths=.5,\n",
    "            xticklabels=correlation_matrix.columns, yticklabels=correlation_matrix.columns)\n",
    "\n",
    "plt.title(\"Correlation Matrix\")\n",
    "plt.show()\n"
   ]
  },
  {
   "cell_type": "markdown",
   "id": "6154f5c9",
   "metadata": {},
   "source": [
    "As per above Correlation graph, highly correlated features are below:\n",
    "\n",
    "allelectrons_Average & atomicweight_Average = 0.99\n",
    "\n",
    "R_vdw_element_Average & R_cov_element_Average = 0.81\n",
    "\n",
    "atomicweight_Average & density_Average = 0.8\n",
    "\n",
    "allelectrons_Average & density_Average = 0.8\n",
    "\n",
    "R_cov_element_Average & allelectrons_Average = 0.69\n",
    "\n",
    "zaratio_Average & ionenergy_Average = 0.64"
   ]
  },
  {
   "cell_type": "code",
   "execution_count": 123,
   "id": "c81ef6f1",
   "metadata": {},
   "outputs": [
    {
     "data": {
      "text/plain": [
       "['id',\n",
       " 'allelectrons_Total',\n",
       " 'density_Total',\n",
       " 'allelectrons_Average',\n",
       " 'val_e_Average',\n",
       " 'atomicweight_Average',\n",
       " 'ionenergy_Average',\n",
       " 'el_neg_chi_Average',\n",
       " 'R_vdw_element_Average',\n",
       " 'R_cov_element_Average',\n",
       " 'zaratio_Average',\n",
       " 'density_Average',\n",
       " 'Hardness']"
      ]
     },
     "execution_count": 123,
     "metadata": {},
     "output_type": "execute_result"
    }
   ],
   "source": [
    "train_data.columns.tolist()"
   ]
  },
  {
   "cell_type": "code",
   "execution_count": 138,
   "id": "5f4540a2",
   "metadata": {},
   "outputs": [],
   "source": [
    "# Example: Selecting features\n",
    "X = train_data.iloc[:,:-1]\n",
    "y = train_data.iloc[:,-1]"
   ]
  },
  {
   "cell_type": "code",
   "execution_count": 139,
   "id": "608256b5",
   "metadata": {},
   "outputs": [],
   "source": [
    "# Create a dictionary to store MSE and R-squared values\n",
    "model_performance = {}"
   ]
  },
  {
   "cell_type": "code",
   "execution_count": 77,
   "id": "5c25d55e",
   "metadata": {},
   "outputs": [
    {
     "name": "stdout",
     "output_type": "stream",
     "text": [
      "Median Absolute Error (Linear Regression): 0.9747358132289365\n"
     ]
    }
   ],
   "source": [
    "# Splitting data into training and validation\n",
    "X_train1, X_val1, y_train1, y_val1 = train_test_split(X, y, test_size=0.2, random_state=42)\n",
    "\n",
    "#Choose a Regression Model\n",
    "model = LinearRegression()\n",
    "\n",
    "#Train the Model\n",
    "model.fit(X_train1, y_train1)\n",
    "\n",
    "\n",
    "#Evaluate the Model\n",
    "predictions = model.predict(X_val1)\n",
    "\n",
    "\n",
    "medae_simple = median_absolute_error(y_val1, predictions)\n",
    "\n",
    "print(f'Median Absolute Error (Linear Regression): {medae_simple}')"
   ]
  },
  {
   "cell_type": "code",
   "execution_count": 78,
   "id": "28addad8",
   "metadata": {},
   "outputs": [],
   "source": [
    "model_performance['Linear Regression'] = {'MAE': medae_simple}"
   ]
  },
  {
   "cell_type": "markdown",
   "id": "f028f536",
   "metadata": {},
   "source": [
    "# Scaling features"
   ]
  },
  {
   "cell_type": "code",
   "execution_count": 140,
   "id": "184504ee",
   "metadata": {},
   "outputs": [],
   "source": [
    "# Splitting data into training and validation\n",
    "X_train1, X_val1, y_train1, y_val1 = train_test_split(X, y, test_size=0.2, random_state=42)\n",
    "\n",
    "#Scaling the dataset\n",
    "\n",
    "from sklearn.preprocessing import StandardScaler\n",
    "\n",
    "# Create a StandardScaler object\n",
    "scaler = StandardScaler()\n",
    "\n",
    "# Fit the scaler on the training data and transform both the training and validation sets\n",
    "X_train_scaled = scaler.fit_transform(X_train1)\n",
    "X_val_scaled = scaler.transform(X_val1)"
   ]
  },
  {
   "cell_type": "markdown",
   "id": "1e258e90",
   "metadata": {},
   "source": [
    "# # Exploring Feature importance"
   ]
  },
  {
   "cell_type": "code",
   "execution_count": 125,
   "id": "338c62fd",
   "metadata": {},
   "outputs": [
    {
     "name": "stdout",
     "output_type": "stream",
     "text": [
      "Significant Features (Linear Regression):\n",
      "                  Feature   Coefficient\n",
      "8   R_vdw_element_Average  1.938179e+00\n",
      "7      el_neg_chi_Average  1.046292e+00\n",
      "4           val_e_Average  4.129424e-02\n",
      "2           density_Total  8.272628e-04\n",
      "0                      id -6.176321e-07\n",
      "1      allelectrons_Total -3.288013e-04\n",
      "5    atomicweight_Average -9.333391e-03\n",
      "3    allelectrons_Average -4.824714e-02\n",
      "6       ionenergy_Average -8.283940e-02\n",
      "11        density_Average -8.808963e-02\n",
      "9   R_cov_element_Average -2.566296e-01\n",
      "10        zaratio_Average -4.740406e+00\n"
     ]
    }
   ],
   "source": [
    "from sklearn.linear_model import LinearRegression\n",
    "\n",
    "# Assuming X_train and y_train are your training data\n",
    "model = LinearRegression()\n",
    "model.fit(X_train1, y_train1)\n",
    "\n",
    "# Get coefficients and corresponding feature names\n",
    "coefficients = model.coef_\n",
    "feature_names = X_train1.columns\n",
    "\n",
    "# Create a DataFrame to display coefficients and feature names\n",
    "coefficients_df = pd.DataFrame({'Feature': feature_names, 'Coefficient': coefficients})\n",
    "coefficients_df = coefficients_df.sort_values(by='Coefficient', ascending=False)\n",
    "\n",
    "# Print the significant features\n",
    "print(\"Significant Features (Linear Regression):\")\n",
    "print(coefficients_df)\n"
   ]
  },
  {
   "cell_type": "code",
   "execution_count": 79,
   "id": "8f5635f6",
   "metadata": {},
   "outputs": [
    {
     "name": "stdout",
     "output_type": "stream",
     "text": [
      "Median Squared Error: 0.9747358132289401\n"
     ]
    }
   ],
   "source": [
    "\n",
    "#Choose a Regression Model\n",
    "model1 = LinearRegression()\n",
    "\n",
    "#Train the Model\n",
    "model1.fit(X_train_scaled, y_train1)\n",
    "\n",
    "\n",
    "#Evaluate the Model\n",
    "predictions1 = model1.predict(X_val_scaled)\n",
    "\n",
    "medae_scale = median_absolute_error(y_val1, predictions1)\n",
    "print(f'Median Squared Error: {medae_scale}')\n",
    "model_performance['Scaled Linear Regression'] = {'MAE': medae_simple}"
   ]
  },
  {
   "cell_type": "code",
   "execution_count": 80,
   "id": "ec12a603",
   "metadata": {},
   "outputs": [
    {
     "data": {
      "text/plain": [
       "{'Linear Regression': {'MAE': 0.9747358132289365},\n",
       " 'Scaled Linear Regression': {'MAE': 0.9747358132289365}}"
      ]
     },
     "execution_count": 80,
     "metadata": {},
     "output_type": "execute_result"
    }
   ],
   "source": [
    "model_performance"
   ]
  },
  {
   "cell_type": "markdown",
   "id": "aac5c50e",
   "metadata": {},
   "source": [
    "# # Scaling and Using LASSO"
   ]
  },
  {
   "cell_type": "code",
   "execution_count": 46,
   "id": "af89bf6a",
   "metadata": {},
   "outputs": [],
   "source": [
    "# Splitting data into training and validation\n",
    "X_train1, X_val1, y_train1, y_val1 = train_test_split(X, y, test_size=0.2, random_state=42)\n",
    "\n",
    "#Scaling the dataset\n",
    "\n",
    "from sklearn.preprocessing import StandardScaler\n",
    "\n",
    "# Create a StandardScaler object\n",
    "scaler = StandardScaler()\n",
    "\n",
    "# Fit the scaler on the training data and transform both the training and validation sets\n",
    "X_train_scaled = scaler.fit_transform(X_train1)\n",
    "X_val_scaled = scaler.transform(X_val1)\n"
   ]
  },
  {
   "cell_type": "code",
   "execution_count": 119,
   "id": "11ed3f04",
   "metadata": {},
   "outputs": [
    {
     "data": {
      "text/html": [
       "<div>\n",
       "<style scoped>\n",
       "    .dataframe tbody tr th:only-of-type {\n",
       "        vertical-align: middle;\n",
       "    }\n",
       "\n",
       "    .dataframe tbody tr th {\n",
       "        vertical-align: top;\n",
       "    }\n",
       "\n",
       "    .dataframe thead th {\n",
       "        text-align: right;\n",
       "    }\n",
       "</style>\n",
       "<table border=\"1\" class=\"dataframe\">\n",
       "  <thead>\n",
       "    <tr style=\"text-align: right;\">\n",
       "      <th></th>\n",
       "      <th>id</th>\n",
       "      <th>allelectrons_Total</th>\n",
       "      <th>density_Total</th>\n",
       "      <th>allelectrons_Average</th>\n",
       "      <th>val_e_Average</th>\n",
       "      <th>atomicweight_Average</th>\n",
       "      <th>ionenergy_Average</th>\n",
       "      <th>el_neg_chi_Average</th>\n",
       "      <th>R_vdw_element_Average</th>\n",
       "      <th>R_cov_element_Average</th>\n",
       "      <th>zaratio_Average</th>\n",
       "      <th>density_Average</th>\n",
       "    </tr>\n",
       "  </thead>\n",
       "  <tbody>\n",
       "    <tr>\n",
       "      <th>2124</th>\n",
       "      <td>2124</td>\n",
       "      <td>30.0</td>\n",
       "      <td>1.743160</td>\n",
       "      <td>10.000000</td>\n",
       "      <td>5.333333</td>\n",
       "      <td>20.766935</td>\n",
       "      <td>14.163933</td>\n",
       "      <td>3.090000</td>\n",
       "      <td>1.556667</td>\n",
       "      <td>0.866667</td>\n",
       "      <td>0.480390</td>\n",
       "      <td>0.51006</td>\n",
       "    </tr>\n",
       "    <tr>\n",
       "      <th>394</th>\n",
       "      <td>394</td>\n",
       "      <td>64.0</td>\n",
       "      <td>13.385996</td>\n",
       "      <td>23.000000</td>\n",
       "      <td>4.000000</td>\n",
       "      <td>55.641640</td>\n",
       "      <td>9.013750</td>\n",
       "      <td>2.220000</td>\n",
       "      <td>1.908000</td>\n",
       "      <td>1.224000</td>\n",
       "      <td>0.474324</td>\n",
       "      <td>4.74000</td>\n",
       "    </tr>\n",
       "    <tr>\n",
       "      <th>3101</th>\n",
       "      <td>3101</td>\n",
       "      <td>97.0</td>\n",
       "      <td>13.477328</td>\n",
       "      <td>12.125000</td>\n",
       "      <td>4.375000</td>\n",
       "      <td>24.988133</td>\n",
       "      <td>11.037175</td>\n",
       "      <td>2.543750</td>\n",
       "      <td>1.720000</td>\n",
       "      <td>0.952500</td>\n",
       "      <td>0.486599</td>\n",
       "      <td>1.79976</td>\n",
       "    </tr>\n",
       "    <tr>\n",
       "      <th>1737</th>\n",
       "      <td>1737</td>\n",
       "      <td>151.0</td>\n",
       "      <td>22.980000</td>\n",
       "      <td>50.333333</td>\n",
       "      <td>4.333333</td>\n",
       "      <td>121.022733</td>\n",
       "      <td>8.531800</td>\n",
       "      <td>2.043333</td>\n",
       "      <td>2.076667</td>\n",
       "      <td>1.366667</td>\n",
       "      <td>0.416920</td>\n",
       "      <td>7.77500</td>\n",
       "    </tr>\n",
       "    <tr>\n",
       "      <th>561</th>\n",
       "      <td>561</td>\n",
       "      <td>131.0</td>\n",
       "      <td>24.150564</td>\n",
       "      <td>17.333333</td>\n",
       "      <td>4.666667</td>\n",
       "      <td>38.897020</td>\n",
       "      <td>10.459208</td>\n",
       "      <td>2.575833</td>\n",
       "      <td>1.753333</td>\n",
       "      <td>0.973333</td>\n",
       "      <td>0.473697</td>\n",
       "      <td>1.92652</td>\n",
       "    </tr>\n",
       "  </tbody>\n",
       "</table>\n",
       "</div>"
      ],
      "text/plain": [
       "        id  allelectrons_Total  density_Total  allelectrons_Average   \n",
       "2124  2124                30.0       1.743160             10.000000  \\\n",
       "394    394                64.0      13.385996             23.000000   \n",
       "3101  3101                97.0      13.477328             12.125000   \n",
       "1737  1737               151.0      22.980000             50.333333   \n",
       "561    561               131.0      24.150564             17.333333   \n",
       "\n",
       "      val_e_Average  atomicweight_Average  ionenergy_Average   \n",
       "2124       5.333333             20.766935          14.163933  \\\n",
       "394        4.000000             55.641640           9.013750   \n",
       "3101       4.375000             24.988133          11.037175   \n",
       "1737       4.333333            121.022733           8.531800   \n",
       "561        4.666667             38.897020          10.459208   \n",
       "\n",
       "      el_neg_chi_Average  R_vdw_element_Average  R_cov_element_Average   \n",
       "2124            3.090000               1.556667               0.866667  \\\n",
       "394             2.220000               1.908000               1.224000   \n",
       "3101            2.543750               1.720000               0.952500   \n",
       "1737            2.043333               2.076667               1.366667   \n",
       "561             2.575833               1.753333               0.973333   \n",
       "\n",
       "      zaratio_Average  density_Average  \n",
       "2124         0.480390          0.51006  \n",
       "394          0.474324          4.74000  \n",
       "3101         0.486599          1.79976  \n",
       "1737         0.416920          7.77500  \n",
       "561          0.473697          1.92652  "
      ]
     },
     "execution_count": 119,
     "metadata": {},
     "output_type": "execute_result"
    }
   ],
   "source": [
    "X_train1.head()"
   ]
  },
  {
   "cell_type": "code",
   "execution_count": 81,
   "id": "28210de2",
   "metadata": {},
   "outputs": [
    {
     "name": "stdout",
     "output_type": "stream",
     "text": [
      "Median Squared Error: 0.9756347785248325\n"
     ]
    }
   ],
   "source": [
    "#Lasso model implementation\n",
    "\n",
    "from sklearn.linear_model import Lasso\n",
    "\n",
    "# Example: Use Lasso regression\n",
    "lasso_model = Lasso(alpha=0.01)\n",
    "lasso_model.fit(X_train_scaled, y_train)\n",
    "#Evaluate the Model\n",
    "predictions_lasso = lasso_model.predict(X_val_scaled)\n",
    "\n",
    "#mse_scale_lasso = mean_squared_error(y_val1, predictions_lasso)\n",
    "#r2_scale_lasso = r2_score(y_val1, predictions_lasso)\n",
    "\n",
    "#print(f'Mean Squared Error: {mse_scale_lasso}')\n",
    "#print(f'R-squared: {r2_scale_lasso}')\n",
    "\n",
    "medae_scale_lasso = median_absolute_error(y_val1, predictions_lasso)\n",
    "print(f'Median Squared Error: {medae_scale_lasso}')\n",
    "model_performance['Lasso Regression'] = {'MAE': medae_scale_lasso}"
   ]
  },
  {
   "cell_type": "code",
   "execution_count": 82,
   "id": "cf578b3c",
   "metadata": {},
   "outputs": [
    {
     "data": {
      "text/plain": [
       "{'Linear Regression': {'MAE': 0.9747358132289365},\n",
       " 'Scaled Linear Regression': {'MAE': 0.9747358132289365},\n",
       " 'Lasso Regression': {'MAE': 0.9756347785248325}}"
      ]
     },
     "execution_count": 82,
     "metadata": {},
     "output_type": "execute_result"
    }
   ],
   "source": [
    "model_performance"
   ]
  },
  {
   "cell_type": "markdown",
   "id": "3d2e64e6",
   "metadata": {},
   "source": [
    "# # Using Random Forest with limited features"
   ]
  },
  {
   "cell_type": "code",
   "execution_count": 50,
   "id": "08a97784",
   "metadata": {},
   "outputs": [
    {
     "name": "stdout",
     "output_type": "stream",
     "text": [
      "zaratio_Average          0.223424\n",
      "ionenergy_Average        0.109359\n",
      "allelectrons_Average     0.107458\n",
      "R_cov_element_Average    0.086411\n",
      "density_Average          0.071660\n",
      "val_e_Average            0.064019\n",
      "id                       0.061315\n",
      "atomicweight_Average     0.059894\n",
      "el_neg_chi_Average       0.059753\n",
      "density_Total            0.059606\n",
      "allelectrons_Total       0.050022\n",
      "R_vdw_element_Average    0.047079\n",
      "dtype: float64\n"
     ]
    }
   ],
   "source": [
    "#X_train_scaled,X_val_scaled, y_train1, y_val1\n",
    "\n",
    "from sklearn.ensemble import RandomForestRegressor\n",
    "\n",
    "# Example: Use RandomForestRegressor for feature importance\n",
    "rf_model = RandomForestRegressor()\n",
    "rf_model.fit(X_train_scaled,  y_train1)\n",
    "\n",
    "# Display feature importances\n",
    "feature_importances = pd.Series(rf_model.feature_importances_, index=X_train.columns)\n",
    "feature_importances.sort_values(ascending=False, inplace=True)\n",
    "print(feature_importances)"
   ]
  },
  {
   "cell_type": "code",
   "execution_count": 86,
   "id": "7c71c10f",
   "metadata": {},
   "outputs": [
    {
     "name": "stdout",
     "output_type": "stream",
     "text": [
      "Median Squared Error: 0.6912499999999993\n"
     ]
    }
   ],
   "source": [
    "# Convert top_features to a list\n",
    "top_features = feature_importances.head(9).index.tolist()\n",
    "\n",
    "# Select top N important features using NumPy array indexing\n",
    "X_train_selected = X_train_scaled[:, [X_train.columns.get_loc(col) for col in top_features]]\n",
    "X_val_selected = X_val_scaled[:, [X_val.columns.get_loc(col) for col in top_features]]\n",
    "\n",
    "# Train a new model with selected features\n",
    "new_model = RandomForestRegressor()\n",
    "new_model.fit(X_train_selected, y_train1)\n",
    "\n",
    "# Make predictions on the validation set\n",
    "predictions_new_model = new_model.predict(X_val_selected)\n",
    "\n",
    "\n",
    "medae_RandomForestLimitedFeatures_model = median_absolute_error(y_val1, predictions_new_model)\n",
    "print(f'Median Squared Error: {medae_RandomForestLimitedFeatures_model}')\n",
    "model_performance['Random Forest Limited Features'] = {'MAE': medae_RandomForestLimitedFeatures_model}"
   ]
  },
  {
   "cell_type": "code",
   "execution_count": 87,
   "id": "3aca424d",
   "metadata": {},
   "outputs": [
    {
     "data": {
      "text/plain": [
       "{'Linear Regression': {'MAE': 0.9747358132289365},\n",
       " 'Scaled Linear Regression': {'MAE': 0.9747358132289365},\n",
       " 'Lasso Regression': {'MAE': 0.9756347785248325},\n",
       " 'Random Forest Limited Features': {'MAE': 0.6912499999999993}}"
      ]
     },
     "execution_count": 87,
     "metadata": {},
     "output_type": "execute_result"
    }
   ],
   "source": [
    "model_performance"
   ]
  },
  {
   "cell_type": "markdown",
   "id": "2f628985",
   "metadata": {},
   "source": [
    "# # Implementing Gradient Boosting"
   ]
  },
  {
   "cell_type": "code",
   "execution_count": 88,
   "id": "716a38c2",
   "metadata": {},
   "outputs": [
    {
     "name": "stdout",
     "output_type": "stream",
     "text": [
      "Median Squared Error: 0.7057570282018306\n"
     ]
    }
   ],
   "source": [
    "#X_train_scaled,X_val_scaled, y_train1, y_val1\n",
    "from sklearn.ensemble import GradientBoostingRegressor\n",
    "\n",
    "# Create and train the model\n",
    "gb_model = GradientBoostingRegressor()\n",
    "gb_model.fit(X_train_scaled, y_train1)\n",
    "\n",
    "# Make predictions on the validation set\n",
    "predictions_gb = gb_model.predict(X_val_scaled)\n",
    "\n",
    "medae_gb = median_absolute_error(y_val1, predictions_gb)\n",
    "print(f'Median Squared Error: {medae_gb}')\n",
    "model_performance['Gradient Boosting'] = {'MAE': medae_gb}\n"
   ]
  },
  {
   "cell_type": "code",
   "execution_count": 89,
   "id": "59188fdc",
   "metadata": {},
   "outputs": [
    {
     "data": {
      "text/plain": [
       "{'Linear Regression': {'MAE': 0.9747358132289365},\n",
       " 'Scaled Linear Regression': {'MAE': 0.9747358132289365},\n",
       " 'Lasso Regression': {'MAE': 0.9756347785248325},\n",
       " 'Random Forest Limited Features': {'MAE': 0.6912499999999993},\n",
       " 'Gradient Boosting': {'MAE': 0.7057570282018306}}"
      ]
     },
     "execution_count": 89,
     "metadata": {},
     "output_type": "execute_result"
    }
   ],
   "source": [
    "model_performance"
   ]
  },
  {
   "cell_type": "markdown",
   "id": "5d6a5679",
   "metadata": {},
   "source": [
    "# # Implement XGBoost"
   ]
  },
  {
   "cell_type": "code",
   "execution_count": 90,
   "id": "93a3b95b",
   "metadata": {},
   "outputs": [
    {
     "name": "stdout",
     "output_type": "stream",
     "text": [
      "Median Squared Error: 0.6810516119003296\n"
     ]
    }
   ],
   "source": [
    "#X_train_scaled,X_val_scaled, y_train1, y_val1\n",
    "import xgboost as xgb\n",
    "\n",
    "# Create and train the model\n",
    "xgb_model = xgb.XGBRegressor()\n",
    "xgb_model.fit(X_train_scaled, y_train1)\n",
    "\n",
    "# Make predictions on the validation set\n",
    "predictions_xgb = xgb_model.predict(X_val_scaled)\n",
    "\n",
    "\n",
    "medae_xgb = median_absolute_error(y_val1, predictions_xgb)\n",
    "print(f'Median Squared Error: {medae_xgb}')\n",
    "model_performance['XGBoost'] = {'MAE': medae_xgb}\n"
   ]
  },
  {
   "cell_type": "code",
   "execution_count": 92,
   "id": "0528bebb",
   "metadata": {},
   "outputs": [
    {
     "data": {
      "text/plain": [
       "{'Linear Regression': {'MAE': 0.9747358132289365},\n",
       " 'Scaled Linear Regression': {'MAE': 0.9747358132289365},\n",
       " 'Lasso Regression': {'MAE': 0.9756347785248325},\n",
       " 'Random Forest Limited Features': {'MAE': 0.6912499999999993},\n",
       " 'Gradient Boosting': {'MAE': 0.7057570282018306},\n",
       " 'XGBoost': {'MAE': 0.6810516119003296}}"
      ]
     },
     "execution_count": 92,
     "metadata": {},
     "output_type": "execute_result"
    }
   ],
   "source": [
    "model_performance"
   ]
  },
  {
   "cell_type": "code",
   "execution_count": 93,
   "id": "e90a5c56",
   "metadata": {},
   "outputs": [
    {
     "name": "stdout",
     "output_type": "stream",
     "text": [
      "XGBoost: {'MAE': 0.6810516119003296}\n",
      "Random Forest Limited Features: {'MAE': 0.6912499999999993}\n",
      "Gradient Boosting: {'MAE': 0.7057570282018306}\n",
      "Linear Regression: {'MAE': 0.9747358132289365}\n",
      "Scaled Linear Regression: {'MAE': 0.9747358132289365}\n",
      "Lasso Regression: {'MAE': 0.9756347785248325}\n"
     ]
    }
   ],
   "source": [
    "# Sort the dictionary items based on MAE values\n",
    "sorted_model_performance = sorted(model_performance.items(), key=lambda x: x[1]['MAE'])\n",
    "\n",
    "# Display the sorted dictionary\n",
    "for model, metrics in sorted_model_performance:\n",
    "    print(f\"{model}: {metrics}\")"
   ]
  },
  {
   "cell_type": "markdown",
   "id": "c2fef6df",
   "metadata": {},
   "source": [
    "# # Tuning XGBoost Parameters"
   ]
  },
  {
   "cell_type": "code",
   "execution_count": 94,
   "id": "002129dd",
   "metadata": {},
   "outputs": [
    {
     "name": "stdout",
     "output_type": "stream",
     "text": [
      "Best Parameters: {'colsample_bytree': 0.8, 'learning_rate': 0.1, 'max_depth': 7, 'min_child_weight': 3, 'n_estimators': 100, 'subsample': 0.9}\n",
      "Median Absolute Error (XGBoost Tuned): 0.6660252809524536\n"
     ]
    }
   ],
   "source": [
    "from sklearn.model_selection import GridSearchCV\n",
    "\n",
    "# Define the parameter grid to search\n",
    "param_grid = {\n",
    "    'learning_rate': [0.01, 0.1, 0.2],\n",
    "    'n_estimators': [100, 200, 300],\n",
    "    'max_depth': [3, 5, 7],\n",
    "    'min_child_weight': [1, 3, 5],\n",
    "    'subsample': [0.8, 0.9, 1.0],\n",
    "    'colsample_bytree': [0.8, 0.9, 1.0],\n",
    "}\n",
    "\n",
    "# Create and train the model\n",
    "xgb_model = xgb.XGBRegressor()\n",
    "\n",
    "# Set up the GridSearchCV\n",
    "grid_search = GridSearchCV(estimator=xgb_model, param_grid=param_grid, scoring='neg_median_absolute_error', cv=3, n_jobs=-1)\n",
    "\n",
    "# Fit the model to the training data\n",
    "grid_search.fit(X_train_scaled, y_train1)\n",
    "\n",
    "# Get the best parameters\n",
    "best_params = grid_search.best_params_\n",
    "print(\"Best Parameters:\", best_params)\n",
    "\n",
    "# Make predictions on the validation set using the best model\n",
    "best_xgb_model = grid_search.best_estimator_\n",
    "predictions_xgb_tuned = best_xgb_model.predict(X_val_scaled)\n",
    "\n",
    "# Calculate Median Absolute Error\n",
    "medae_xgb_tuned = median_absolute_error(y_val1, predictions_xgb_tuned)\n",
    "print(f'Median Absolute Error (XGBoost Tuned): {medae_xgb_tuned}')\n",
    "\n",
    "# Store performance in the model_performance dictionary\n",
    "model_performance['XGBoost Tuned'] = {'MAE': medae_xgb_tuned}\n"
   ]
  },
  {
   "cell_type": "code",
   "execution_count": 95,
   "id": "828a693d",
   "metadata": {},
   "outputs": [
    {
     "data": {
      "text/plain": [
       "{'Linear Regression': {'MAE': 0.9747358132289365},\n",
       " 'Scaled Linear Regression': {'MAE': 0.9747358132289365},\n",
       " 'Lasso Regression': {'MAE': 0.9756347785248325},\n",
       " 'Random Forest Limited Features': {'MAE': 0.6912499999999993},\n",
       " 'Gradient Boosting': {'MAE': 0.7057570282018306},\n",
       " 'XGBoost': {'MAE': 0.6810516119003296},\n",
       " 'XGBoost Tuned': {'MAE': 0.6660252809524536}}"
      ]
     },
     "execution_count": 95,
     "metadata": {},
     "output_type": "execute_result"
    }
   ],
   "source": [
    "model_performance"
   ]
  },
  {
   "cell_type": "code",
   "execution_count": 96,
   "id": "011c3486",
   "metadata": {},
   "outputs": [
    {
     "name": "stdout",
     "output_type": "stream",
     "text": [
      "XGBoost Tuned: {'MAE': 0.6660252809524536}\n",
      "XGBoost: {'MAE': 0.6810516119003296}\n",
      "Random Forest Limited Features: {'MAE': 0.6912499999999993}\n",
      "Gradient Boosting: {'MAE': 0.7057570282018306}\n",
      "Linear Regression: {'MAE': 0.9747358132289365}\n",
      "Scaled Linear Regression: {'MAE': 0.9747358132289365}\n",
      "Lasso Regression: {'MAE': 0.9756347785248325}\n"
     ]
    }
   ],
   "source": [
    "# Sort the dictionary items based on MAE values\n",
    "sorted_model_performance = sorted(model_performance.items(), key=lambda x: x[1]['MAE'])\n",
    "\n",
    "# Display the sorted dictionary\n",
    "for model, metrics in sorted_model_performance:\n",
    "    print(f\"{model}: {metrics}\")"
   ]
  },
  {
   "cell_type": "markdown",
   "id": "edafaf5e",
   "metadata": {},
   "source": [
    "# # ensemble of models (XGBoost and Gradient Boosting)"
   ]
  },
  {
   "cell_type": "code",
   "execution_count": 97,
   "id": "15df4934",
   "metadata": {},
   "outputs": [
    {
     "name": "stdout",
     "output_type": "stream",
     "text": [
      "Median Absolute Error (Ensemble): 0.6556386138852588\n"
     ]
    }
   ],
   "source": [
    "from sklearn.ensemble import VotingRegressor\n",
    "\n",
    "# Create an ensemble of models (XGBoost and Gradient Boosting)\n",
    "ensemble_model = VotingRegressor([\n",
    "    ('xgb', xgb.XGBRegressor(**best_params)),\n",
    "    ('gb', GradientBoostingRegressor(n_estimators=best_params['n_estimators'], learning_rate=best_params['learning_rate'], \n",
    "                                     max_depth=best_params['max_depth'], min_samples_split=best_params['min_child_weight'], \n",
    "                                     subsample=best_params['subsample'], random_state=42))\n",
    "])\n",
    "\n",
    "# Train the ensemble model\n",
    "ensemble_model.fit(X_train_scaled, y_train1)\n",
    "\n",
    "# Make predictions on the validation set\n",
    "predictions_ensemble = ensemble_model.predict(X_val_scaled)\n",
    "\n",
    "# Calculate Median Absolute Error for the ensemble\n",
    "medae_ensemble = median_absolute_error(y_val1, predictions_ensemble)\n",
    "print(f'Median Absolute Error (Ensemble): {medae_ensemble}')\n",
    "model_performance['Ensemble'] = {'MAE': medae_ensemble}\n"
   ]
  },
  {
   "cell_type": "code",
   "execution_count": 98,
   "id": "c67e6e63",
   "metadata": {},
   "outputs": [
    {
     "name": "stdout",
     "output_type": "stream",
     "text": [
      "Ensemble: {'MAE': 0.6556386138852588}\n",
      "XGBoost Tuned: {'MAE': 0.6660252809524536}\n",
      "XGBoost: {'MAE': 0.6810516119003296}\n",
      "Random Forest Limited Features: {'MAE': 0.6912499999999993}\n",
      "Gradient Boosting: {'MAE': 0.7057570282018306}\n",
      "Linear Regression: {'MAE': 0.9747358132289365}\n",
      "Scaled Linear Regression: {'MAE': 0.9747358132289365}\n",
      "Lasso Regression: {'MAE': 0.9756347785248325}\n"
     ]
    }
   ],
   "source": [
    "# Sort the dictionary items based on MAE values\n",
    "sorted_model_performance = sorted(model_performance.items(), key=lambda x: x[1]['MAE'])\n",
    "\n",
    "# Display the sorted dictionary\n",
    "for model, metrics in sorted_model_performance:\n",
    "    print(f\"{model}: {metrics}\")"
   ]
  },
  {
   "cell_type": "markdown",
   "id": "2095869f",
   "metadata": {},
   "source": [
    "# # Regularization"
   ]
  },
  {
   "cell_type": "code",
   "execution_count": 109,
   "id": "73475c9e",
   "metadata": {},
   "outputs": [
    {
     "name": "stdout",
     "output_type": "stream",
     "text": [
      "Median Absolute Error (XGBoost Regularized): 0.6514518737792967\n"
     ]
    }
   ],
   "source": [
    "# Update best_params with regularization parameters\n",
    "best_params['reg_alpha'] = 0.8  # Example value, you can tune this\n",
    "best_params['reg_lambda'] = 0.1  # Example value, you can tune this\n",
    "\n",
    "# Create and train the regularized XGBoost model\n",
    "xgb_reg_model = xgb.XGBRegressor(**best_params)\n",
    "xgb_reg_model.fit(X_train_scaled, y_train1)\n",
    "\n",
    "# Make predictions on the validation set\n",
    "predictions_xgb_reg = xgb_reg_model.predict(X_val_scaled)\n",
    "\n",
    "# Calculate Median Absolute Error for the regularized XGBoost model\n",
    "medae_xgb_reg = median_absolute_error(y_val1, predictions_xgb_reg)\n",
    "print(f'Median Absolute Error (XGBoost Regularized): {medae_xgb_reg}')\n",
    "model_performance['XGBoost Regularized'] = {'MAE': medae_xgb_reg}\n"
   ]
  },
  {
   "cell_type": "markdown",
   "id": "bfadfd90",
   "metadata": {},
   "source": [
    "# # Cross-Validation"
   ]
  },
  {
   "cell_type": "code",
   "execution_count": 110,
   "id": "a151d286",
   "metadata": {},
   "outputs": [
    {
     "name": "stdout",
     "output_type": "stream",
     "text": [
      "Median Absolute Error (Cross-Validation): 0.6566271781921387\n"
     ]
    }
   ],
   "source": [
    "from sklearn.model_selection import cross_val_score\n",
    "\n",
    "# Update best_params with regularization parameters\n",
    "best_params['reg_alpha'] = 2  # Example value, you can tune this\n",
    "best_params['reg_lambda'] = 0.1  # Example value, you can tune this\n",
    "\n",
    "# Create and train the regularized XGBoost model\n",
    "xgb_reg_model = xgb.XGBRegressor(**best_params)\n",
    "xgb_reg_model.fit(X_train_scaled, y_train1)\n",
    "\n",
    "# Perform cross-validation\n",
    "cv_scores = cross_val_score(xgb_reg_model, X_train_scaled, y_train1, cv=5, scoring='neg_median_absolute_error')\n",
    "\n",
    "# Calculate the median of cross-validation scores\n",
    "cv_medae = -np.median(cv_scores)\n",
    "print(f'Median Absolute Error (Cross-Validation): {cv_medae}')\n",
    "model_performance['Cross-Validation'] = {'MAE': cv_medae}\n"
   ]
  },
  {
   "cell_type": "code",
   "execution_count": 111,
   "id": "bbdcfc4a",
   "metadata": {},
   "outputs": [
    {
     "name": "stdout",
     "output_type": "stream",
     "text": [
      "XGBoost Regularized: {'MAE': 0.6514518737792967}\n",
      "Ensemble: {'MAE': 0.6556386138852588}\n",
      "Cross-Validation: {'MAE': 0.6566271781921387}\n",
      "XGBoost Tuned: {'MAE': 0.6660252809524536}\n",
      "XGBoost: {'MAE': 0.6810516119003296}\n",
      "Random Forest Limited Features: {'MAE': 0.6912499999999993}\n",
      "Gradient Boosting: {'MAE': 0.7057570282018306}\n",
      "Linear Regression: {'MAE': 0.9747358132289365}\n",
      "Scaled Linear Regression: {'MAE': 0.9747358132289365}\n",
      "Lasso Regression: {'MAE': 0.9756347785248325}\n"
     ]
    }
   ],
   "source": [
    "# Sort the dictionary items based on MAE values\n",
    "sorted_model_performance = sorted(model_performance.items(), key=lambda x: x[1]['MAE'])\n",
    "\n",
    "# Display the sorted dictionary\n",
    "for model, metrics in sorted_model_performance:\n",
    "    print(f\"{model}: {metrics}\")"
   ]
  },
  {
   "cell_type": "markdown",
   "id": "8ddc7cfd",
   "metadata": {},
   "source": [
    "# # XGBoost Tuned with Regularization"
   ]
  },
  {
   "cell_type": "code",
   "execution_count": 112,
   "id": "0114b517",
   "metadata": {},
   "outputs": [
    {
     "name": "stdout",
     "output_type": "stream",
     "text": [
      "Best Regularization Parameters: {'reg_alpha': 2, 'reg_lambda': 0.05}\n",
      "Median Absolute Error (XGBoost Tuned with Regularization): 0.6588684558868407\n"
     ]
    }
   ],
   "source": [
    "from sklearn.model_selection import GridSearchCV\n",
    "\n",
    "# Define the parameter grid to search\n",
    "param_grid = {\n",
    "    'reg_alpha': [0.1, 0.01, 0.001,0.2,0.3,0.5,0.7,0.8,0.9,1.6,2,0.05,0.08,0.005],\n",
    "    'reg_lambda': [0.1, 0.01, 0.001, 0.05, 0.005],\n",
    "}\n",
    "\n",
    "# Create and train the model\n",
    "xgb_model = xgb.XGBRegressor(n_estimators=100, learning_rate=0.1, max_depth=7, min_child_weight=3, subsample=0.9, colsample_bytree=0.8, random_state=42)\n",
    "\n",
    "# Set up the GridSearchCV\n",
    "grid_search = GridSearchCV(estimator=xgb_model, param_grid=param_grid, scoring='neg_median_absolute_error', cv=3, n_jobs=-1)\n",
    "\n",
    "# Fit the model to the training data\n",
    "grid_search.fit(X_train_scaled, y_train1)\n",
    "\n",
    "# Get the best parameters\n",
    "best_reg_params = grid_search.best_params_\n",
    "print(\"Best Regularization Parameters:\", best_reg_params)\n",
    "\n",
    "# Make predictions on the validation set using the best model\n",
    "best_xgb_model_reg = grid_search.best_estimator_\n",
    "predictions_xgb_reg_tuned = best_xgb_model_reg.predict(X_val_scaled)\n",
    "\n",
    "# Calculate Median Absolute Error for the tuned XGBoost model with regularization\n",
    "medae_xgb_reg_tuned = median_absolute_error(y_val1, predictions_xgb_reg_tuned)\n",
    "print(f'Median Absolute Error (XGBoost Tuned with Regularization): {medae_xgb_reg_tuned}')\n"
   ]
  },
  {
   "cell_type": "code",
   "execution_count": 114,
   "id": "da357141",
   "metadata": {},
   "outputs": [],
   "source": [
    "model_performance['XGBoost Tuned with Regularization'] = {'MAE': medae_xgb_reg_tuned}"
   ]
  },
  {
   "cell_type": "code",
   "execution_count": 115,
   "id": "ede25f7a",
   "metadata": {},
   "outputs": [
    {
     "name": "stdout",
     "output_type": "stream",
     "text": [
      "XGBoost Regularized: {'MAE': 0.6514518737792967}\n",
      "Ensemble: {'MAE': 0.6556386138852588}\n",
      "Cross-Validation: {'MAE': 0.6566271781921387}\n",
      "XGBoost Tuned with Regularization: {'MAE': 0.6588684558868407}\n",
      "XGBoost Tuned: {'MAE': 0.6660252809524536}\n",
      "XGBoost: {'MAE': 0.6810516119003296}\n",
      "Random Forest Limited Features: {'MAE': 0.6912499999999993}\n",
      "Gradient Boosting: {'MAE': 0.7057570282018306}\n",
      "Linear Regression: {'MAE': 0.9747358132289365}\n",
      "Scaled Linear Regression: {'MAE': 0.9747358132289365}\n",
      "Lasso Regression: {'MAE': 0.9756347785248325}\n"
     ]
    }
   ],
   "source": [
    "# Sort the dictionary items based on MAE values\n",
    "sorted_model_performance = sorted(model_performance.items(), key=lambda x: x[1]['MAE'])\n",
    "\n",
    "# Display the sorted dictionary\n",
    "for model, metrics in sorted_model_performance:\n",
    "    print(f\"{model}: {metrics}\")"
   ]
  },
  {
   "cell_type": "code",
   "execution_count": 122,
   "id": "3083e1db",
   "metadata": {},
   "outputs": [
    {
     "name": "stdout",
     "output_type": "stream",
     "text": [
      "Median Absolute Error (Linear Regression): 0.9747358132289401\n",
      "Median Absolute Error (Lasso Regression): 1.34984984984985\n",
      "Median Absolute Error (Random Forest): 0.6750000000000007\n",
      "Median Absolute Error (Gradient Boosting): 0.705757028201832\n",
      "Median Absolute Error (XGBoost): 0.6660252809524536\n",
      "Best Model: XGBoost with Median Absolute Error: 0.6660252809524536\n"
     ]
    }
   ],
   "source": [
    "from sklearn.model_selection import GridSearchCV\n",
    "from sklearn.linear_model import LinearRegression, Lasso\n",
    "from sklearn.ensemble import RandomForestRegressor, GradientBoostingRegressor\n",
    "from xgboost import XGBRegressor\n",
    "from sklearn.model_selection import train_test_split\n",
    "from sklearn.metrics import median_absolute_error\n",
    "\n",
    "def train_and_evaluate_models(X_train, y_train, X_val, y_val):\n",
    "    models = {\n",
    "        'Linear Regression': LinearRegression(),\n",
    "        'Lasso Regression': Lasso(),\n",
    "        'Random Forest': RandomForestRegressor(),\n",
    "        'Gradient Boosting': GradientBoostingRegressor(),\n",
    "        'XGBoost': XGBRegressor(),\n",
    "    }\n",
    "\n",
    "    best_model = None\n",
    "    best_medae = float('inf')\n",
    "\n",
    "    for model_name, model in models.items():\n",
    "        if model_name == 'XGBoost':\n",
    "            # Define the parameter grid for XGBoost\n",
    "            param_grid = {\n",
    "                'learning_rate': [0.1],\n",
    "                'n_estimators': [100],\n",
    "                'max_depth': [7],\n",
    "                'min_child_weight': [3],\n",
    "                'subsample': [0.9],\n",
    "                'colsample_bytree': [0.8],\n",
    "            }\n",
    "\n",
    "            # Create XGBoost regressor\n",
    "            xgb_model = XGBRegressor()\n",
    "\n",
    "            # Set up GridSearchCV\n",
    "            grid_search = GridSearchCV(estimator=xgb_model, param_grid=param_grid, scoring='neg_median_absolute_error', cv=3, n_jobs=-1)\n",
    "\n",
    "            # Fit the model to the training data\n",
    "            grid_search.fit(X_train, y_train)\n",
    "\n",
    "            # Get the best parameters\n",
    "            best_params = grid_search.best_params_\n",
    "\n",
    "            # Use the best parameters to create the final XGBoost model\n",
    "            model = XGBRegressor(**best_params)\n",
    "\n",
    "        # Train the model\n",
    "        model.fit(X_train, y_train)\n",
    "\n",
    "        # Make predictions on the validation set\n",
    "        predictions = model.predict(X_val)\n",
    "\n",
    "        # Evaluate the model using Median Absolute Error\n",
    "        medae = median_absolute_error(y_val, predictions)\n",
    "        print(f'Median Absolute Error ({model_name}): {medae}')\n",
    "\n",
    "        # Update the best model if the current model performs better\n",
    "        if medae < best_medae:\n",
    "            best_model = model_name\n",
    "            best_medae = medae\n",
    "\n",
    "    print(f'Best Model: {best_model} with Median Absolute Error: {best_medae}')\n",
    "\n",
    "# Assuming you have X_train, y_train, X_val, y_val\n",
    "X_train, X_val, y_train, y_val = train_test_split(X, y, test_size=0.2, random_state=42)\n",
    "\n",
    "# Call the function to train and evaluate models\n",
    "##X_train_scaled,X_val_scaled, y_train1, y_val1\n",
    "train_and_evaluate_models(X_train_scaled, y_train1, X_val_scaled, y_val1)\n"
   ]
  },
  {
   "cell_type": "code",
   "execution_count": 141,
   "id": "6913cbd2",
   "metadata": {},
   "outputs": [
    {
     "name": "stdout",
     "output_type": "stream",
     "text": [
      "Median Absolute Error (Linear Regression): 0.9747358132289401\n",
      "Median Absolute Error (Lasso Regression): 1.34984984984985\n",
      "Median Absolute Error (Random Forest): 0.6852499999999979\n",
      "Median Absolute Error (Gradient Boosting): 0.7057570282018308\n",
      "Median Absolute Error (XGBoost Regularized): 0.6514518737792967\n",
      "Best Model: Random Forest with Median Absolute Error: 0.6852499999999979\n"
     ]
    }
   ],
   "source": [
    "from sklearn.model_selection import GridSearchCV\n",
    "from sklearn.linear_model import LinearRegression, Lasso\n",
    "from sklearn.ensemble import RandomForestRegressor, GradientBoostingRegressor\n",
    "from xgboost import XGBRegressor\n",
    "from sklearn.model_selection import train_test_split\n",
    "from sklearn.metrics import median_absolute_error\n",
    "\n",
    "def train_and_evaluate_models(X_train, y_train, X_val, y_val):\n",
    "    models = {\n",
    "        'Linear Regression': LinearRegression(),\n",
    "        'Lasso Regression': Lasso(),\n",
    "        'Random Forest': RandomForestRegressor(),\n",
    "        'Gradient Boosting': GradientBoostingRegressor(),\n",
    "        'XGBoost': XGBRegressor(),\n",
    "    }\n",
    "\n",
    "    best_model = None\n",
    "    best_medae = float('inf')\n",
    "\n",
    "    for model_name, model in models.items():\n",
    "        if model_name == 'XGBoost':\n",
    "            # Define the parameter grid for XGBoost\n",
    "            param_grid = {\n",
    "                'learning_rate': [0.1],\n",
    "                'n_estimators': [100],\n",
    "                'max_depth': [7],\n",
    "                'min_child_weight': [3],\n",
    "                'subsample': [0.9],\n",
    "                'colsample_bytree': [0.8],\n",
    "            }\n",
    "\n",
    "            # Create XGBoost regressor\n",
    "            xgb_model = XGBRegressor()\n",
    "\n",
    "            # Set up GridSearchCV\n",
    "            grid_search = GridSearchCV(estimator=xgb_model, param_grid=param_grid, scoring='neg_median_absolute_error', cv=3, n_jobs=-1)\n",
    "\n",
    "            # Fit the model to the training data\n",
    "            grid_search.fit(X_train, y_train)\n",
    "\n",
    "            # Get the best parameters\n",
    "            best_params = grid_search.best_params_\n",
    "\n",
    "            # Update best_params with regularization parameters\n",
    "            best_params['reg_alpha'] = 0.8  # Example value, you can tune this\n",
    "            best_params['reg_lambda'] = 0.1  # Example value, you can tune this\n",
    "\n",
    "            # Create and train the regularized XGBoost model\n",
    "            xgb_reg_model = XGBRegressor(**best_params)\n",
    "            xgb_reg_model.fit(X_train, y_train)\n",
    "\n",
    "            # Make predictions on the validation set\n",
    "            predictions_xgb_reg = xgb_reg_model.predict(X_val)\n",
    "\n",
    "            # Calculate Median Absolute Error for the regularized XGBoost model\n",
    "            medae_xgb_reg = median_absolute_error(y_val, predictions_xgb_reg)\n",
    "            print(f'Median Absolute Error (XGBoost Regularized): {medae_xgb_reg}')\n",
    "            model_performance['XGBoost Regularized'] = {'MAE': medae_xgb_reg}\n",
    "\n",
    "            continue  # Skip the non-regularized XGBoost model\n",
    "\n",
    "        # Train the model\n",
    "        model.fit(X_train, y_train)\n",
    "\n",
    "        # Make predictions on the validation set\n",
    "        predictions = model.predict(X_val)\n",
    "\n",
    "        # Evaluate the model using Median Absolute Error\n",
    "        medae = median_absolute_error(y_val, predictions)\n",
    "        print(f'Median Absolute Error ({model_name}): {medae}')\n",
    "\n",
    "        # Update the best model if the current model performs better\n",
    "        if medae < best_medae:\n",
    "            best_model = model_name\n",
    "            best_medae = medae\n",
    "\n",
    "    print(f'Best Model: {best_model} with Median Absolute Error: {best_medae}')\n",
    "\n",
    "# Assuming you have X_train_scaled, X_val_scaled, y_train1, y_val1\n",
    "train_and_evaluate_models(X_train_scaled, y_train1, X_val_scaled, y_val1)\n"
   ]
  },
  {
   "cell_type": "markdown",
   "id": "e18015e1",
   "metadata": {},
   "source": [
    "#  So Far Lowest MAE is by XGBoost Regularized: {'MAE': 0.6514518737792967}"
   ]
  },
  {
   "cell_type": "code",
   "execution_count": 127,
   "id": "902a43db",
   "metadata": {},
   "outputs": [
    {
     "ename": "AttributeError",
     "evalue": "module 'pandas' has no attribute 'Int64Index'",
     "output_type": "error",
     "traceback": [
      "\u001b[1;31m---------------------------------------------------------------------------\u001b[0m",
      "\u001b[1;31mAttributeError\u001b[0m                            Traceback (most recent call last)",
      "Cell \u001b[1;32mIn[127], line 28\u001b[0m\n\u001b[0;32m     25\u001b[0m X_train_scaled, X_val_scaled, y_train1, y_val1 \u001b[38;5;241m=\u001b[39m train_test_split(X, y, test_size\u001b[38;5;241m=\u001b[39m\u001b[38;5;241m0.2\u001b[39m, random_state\u001b[38;5;241m=\u001b[39m\u001b[38;5;241m42\u001b[39m)\n\u001b[0;32m     27\u001b[0m \u001b[38;5;66;03m# Fit the model to the training data\u001b[39;00m\n\u001b[1;32m---> 28\u001b[0m \u001b[43mxgb_reg_model\u001b[49m\u001b[38;5;241;43m.\u001b[39;49m\u001b[43mfit\u001b[49m\u001b[43m(\u001b[49m\u001b[43mX_train_scaled\u001b[49m\u001b[43m,\u001b[49m\u001b[43m \u001b[49m\u001b[43my_train1\u001b[49m\u001b[43m)\u001b[49m\n\u001b[0;32m     30\u001b[0m \u001b[38;5;66;03m# Make predictions on the validation set\u001b[39;00m\n\u001b[0;32m     31\u001b[0m predictions_xgb_reg \u001b[38;5;241m=\u001b[39m xgb_reg_model\u001b[38;5;241m.\u001b[39mpredict(X_val_scaled)\n",
      "File \u001b[1;32m~\\Anaconda3\\lib\\site-packages\\xgboost\\core.py:506\u001b[0m, in \u001b[0;36m_deprecate_positional_args.<locals>.inner_f\u001b[1;34m(*args, **kwargs)\u001b[0m\n\u001b[0;32m    504\u001b[0m \u001b[38;5;28;01mfor\u001b[39;00m k, arg \u001b[38;5;129;01min\u001b[39;00m \u001b[38;5;28mzip\u001b[39m(sig\u001b[38;5;241m.\u001b[39mparameters, args):\n\u001b[0;32m    505\u001b[0m     kwargs[k] \u001b[38;5;241m=\u001b[39m arg\n\u001b[1;32m--> 506\u001b[0m \u001b[38;5;28;01mreturn\u001b[39;00m f(\u001b[38;5;241m*\u001b[39m\u001b[38;5;241m*\u001b[39mkwargs)\n",
      "File \u001b[1;32m~\\Anaconda3\\lib\\site-packages\\xgboost\\sklearn.py:761\u001b[0m, in \u001b[0;36mXGBModel.fit\u001b[1;34m(self, X, y, sample_weight, base_margin, eval_set, eval_metric, early_stopping_rounds, verbose, xgb_model, sample_weight_eval_set, base_margin_eval_set, feature_weights, callbacks)\u001b[0m\n\u001b[0;32m    687\u001b[0m \u001b[38;5;124;03m\"\"\"Fit gradient boosting model.\u001b[39;00m\n\u001b[0;32m    688\u001b[0m \n\u001b[0;32m    689\u001b[0m \u001b[38;5;124;03mNote that calling ``fit()`` multiple times will cause the model object to be\u001b[39;00m\n\u001b[1;32m   (...)\u001b[0m\n\u001b[0;32m    758\u001b[0m \n\u001b[0;32m    759\u001b[0m \u001b[38;5;124;03m\"\"\"\u001b[39;00m\n\u001b[0;32m    760\u001b[0m evals_result: TrainingCallback\u001b[38;5;241m.\u001b[39mEvalsLog \u001b[38;5;241m=\u001b[39m {}\n\u001b[1;32m--> 761\u001b[0m train_dmatrix, evals \u001b[38;5;241m=\u001b[39m \u001b[43m_wrap_evaluation_matrices\u001b[49m\u001b[43m(\u001b[49m\n\u001b[0;32m    762\u001b[0m \u001b[43m    \u001b[49m\u001b[43mmissing\u001b[49m\u001b[38;5;241;43m=\u001b[39;49m\u001b[38;5;28;43mself\u001b[39;49m\u001b[38;5;241;43m.\u001b[39;49m\u001b[43mmissing\u001b[49m\u001b[43m,\u001b[49m\n\u001b[0;32m    763\u001b[0m \u001b[43m    \u001b[49m\u001b[43mX\u001b[49m\u001b[38;5;241;43m=\u001b[39;49m\u001b[43mX\u001b[49m\u001b[43m,\u001b[49m\n\u001b[0;32m    764\u001b[0m \u001b[43m    \u001b[49m\u001b[43my\u001b[49m\u001b[38;5;241;43m=\u001b[39;49m\u001b[43my\u001b[49m\u001b[43m,\u001b[49m\n\u001b[0;32m    765\u001b[0m \u001b[43m    \u001b[49m\u001b[43mgroup\u001b[49m\u001b[38;5;241;43m=\u001b[39;49m\u001b[38;5;28;43;01mNone\u001b[39;49;00m\u001b[43m,\u001b[49m\n\u001b[0;32m    766\u001b[0m \u001b[43m    \u001b[49m\u001b[43mqid\u001b[49m\u001b[38;5;241;43m=\u001b[39;49m\u001b[38;5;28;43;01mNone\u001b[39;49;00m\u001b[43m,\u001b[49m\n\u001b[0;32m    767\u001b[0m \u001b[43m    \u001b[49m\u001b[43msample_weight\u001b[49m\u001b[38;5;241;43m=\u001b[39;49m\u001b[43msample_weight\u001b[49m\u001b[43m,\u001b[49m\n\u001b[0;32m    768\u001b[0m \u001b[43m    \u001b[49m\u001b[43mbase_margin\u001b[49m\u001b[38;5;241;43m=\u001b[39;49m\u001b[43mbase_margin\u001b[49m\u001b[43m,\u001b[49m\n\u001b[0;32m    769\u001b[0m \u001b[43m    \u001b[49m\u001b[43mfeature_weights\u001b[49m\u001b[38;5;241;43m=\u001b[39;49m\u001b[43mfeature_weights\u001b[49m\u001b[43m,\u001b[49m\n\u001b[0;32m    770\u001b[0m \u001b[43m    \u001b[49m\u001b[43meval_set\u001b[49m\u001b[38;5;241;43m=\u001b[39;49m\u001b[43meval_set\u001b[49m\u001b[43m,\u001b[49m\n\u001b[0;32m    771\u001b[0m \u001b[43m    \u001b[49m\u001b[43msample_weight_eval_set\u001b[49m\u001b[38;5;241;43m=\u001b[39;49m\u001b[43msample_weight_eval_set\u001b[49m\u001b[43m,\u001b[49m\n\u001b[0;32m    772\u001b[0m \u001b[43m    \u001b[49m\u001b[43mbase_margin_eval_set\u001b[49m\u001b[38;5;241;43m=\u001b[39;49m\u001b[43mbase_margin_eval_set\u001b[49m\u001b[43m,\u001b[49m\n\u001b[0;32m    773\u001b[0m \u001b[43m    \u001b[49m\u001b[43meval_group\u001b[49m\u001b[38;5;241;43m=\u001b[39;49m\u001b[38;5;28;43;01mNone\u001b[39;49;00m\u001b[43m,\u001b[49m\n\u001b[0;32m    774\u001b[0m \u001b[43m    \u001b[49m\u001b[43meval_qid\u001b[49m\u001b[38;5;241;43m=\u001b[39;49m\u001b[38;5;28;43;01mNone\u001b[39;49;00m\u001b[43m,\u001b[49m\n\u001b[0;32m    775\u001b[0m \u001b[43m    \u001b[49m\u001b[43mcreate_dmatrix\u001b[49m\u001b[38;5;241;43m=\u001b[39;49m\u001b[38;5;28;43;01mlambda\u001b[39;49;00m\u001b[43m \u001b[49m\u001b[38;5;241;43m*\u001b[39;49m\u001b[38;5;241;43m*\u001b[39;49m\u001b[43mkwargs\u001b[49m\u001b[43m:\u001b[49m\u001b[43m \u001b[49m\u001b[43mDMatrix\u001b[49m\u001b[43m(\u001b[49m\u001b[43mnthread\u001b[49m\u001b[38;5;241;43m=\u001b[39;49m\u001b[38;5;28;43mself\u001b[39;49m\u001b[38;5;241;43m.\u001b[39;49m\u001b[43mn_jobs\u001b[49m\u001b[43m,\u001b[49m\u001b[43m \u001b[49m\u001b[38;5;241;43m*\u001b[39;49m\u001b[38;5;241;43m*\u001b[39;49m\u001b[43mkwargs\u001b[49m\u001b[43m)\u001b[49m\u001b[43m,\u001b[49m\n\u001b[0;32m    776\u001b[0m \u001b[43m    \u001b[49m\u001b[43menable_categorical\u001b[49m\u001b[38;5;241;43m=\u001b[39;49m\u001b[38;5;28;43mself\u001b[39;49m\u001b[38;5;241;43m.\u001b[39;49m\u001b[43menable_categorical\u001b[49m\u001b[43m,\u001b[49m\n\u001b[0;32m    777\u001b[0m \u001b[43m\u001b[49m\u001b[43m)\u001b[49m\n\u001b[0;32m    778\u001b[0m params \u001b[38;5;241m=\u001b[39m \u001b[38;5;28mself\u001b[39m\u001b[38;5;241m.\u001b[39mget_xgb_params()\n\u001b[0;32m    780\u001b[0m \u001b[38;5;28;01mif\u001b[39;00m callable(\u001b[38;5;28mself\u001b[39m\u001b[38;5;241m.\u001b[39mobjective):\n",
      "File \u001b[1;32m~\\Anaconda3\\lib\\site-packages\\xgboost\\sklearn.py:286\u001b[0m, in \u001b[0;36m_wrap_evaluation_matrices\u001b[1;34m(missing, X, y, group, qid, sample_weight, base_margin, feature_weights, eval_set, sample_weight_eval_set, base_margin_eval_set, eval_group, eval_qid, create_dmatrix, enable_categorical, label_transform)\u001b[0m\n\u001b[0;32m    265\u001b[0m \u001b[38;5;28;01mdef\u001b[39;00m \u001b[38;5;21m_wrap_evaluation_matrices\u001b[39m(\n\u001b[0;32m    266\u001b[0m     missing: \u001b[38;5;28mfloat\u001b[39m,\n\u001b[0;32m    267\u001b[0m     X: Any,\n\u001b[1;32m   (...)\u001b[0m\n\u001b[0;32m    281\u001b[0m     label_transform: Callable \u001b[38;5;241m=\u001b[39m \u001b[38;5;28;01mlambda\u001b[39;00m x: x,\n\u001b[0;32m    282\u001b[0m ) \u001b[38;5;241m-\u001b[39m\u001b[38;5;241m>\u001b[39m Tuple[Any, Optional[List[Tuple[Any, \u001b[38;5;28mstr\u001b[39m]]]]:\n\u001b[0;32m    283\u001b[0m     \u001b[38;5;124;03m\"\"\"Convert array_like evaluation matrices into DMatrix.  Perform validation on the way.\u001b[39;00m\n\u001b[0;32m    284\u001b[0m \n\u001b[0;32m    285\u001b[0m \u001b[38;5;124;03m    \"\"\"\u001b[39;00m\n\u001b[1;32m--> 286\u001b[0m     train_dmatrix \u001b[38;5;241m=\u001b[39m \u001b[43mcreate_dmatrix\u001b[49m\u001b[43m(\u001b[49m\n\u001b[0;32m    287\u001b[0m \u001b[43m        \u001b[49m\u001b[43mdata\u001b[49m\u001b[38;5;241;43m=\u001b[39;49m\u001b[43mX\u001b[49m\u001b[43m,\u001b[49m\n\u001b[0;32m    288\u001b[0m \u001b[43m        \u001b[49m\u001b[43mlabel\u001b[49m\u001b[38;5;241;43m=\u001b[39;49m\u001b[43mlabel_transform\u001b[49m\u001b[43m(\u001b[49m\u001b[43my\u001b[49m\u001b[43m)\u001b[49m\u001b[43m,\u001b[49m\n\u001b[0;32m    289\u001b[0m \u001b[43m        \u001b[49m\u001b[43mgroup\u001b[49m\u001b[38;5;241;43m=\u001b[39;49m\u001b[43mgroup\u001b[49m\u001b[43m,\u001b[49m\n\u001b[0;32m    290\u001b[0m \u001b[43m        \u001b[49m\u001b[43mqid\u001b[49m\u001b[38;5;241;43m=\u001b[39;49m\u001b[43mqid\u001b[49m\u001b[43m,\u001b[49m\n\u001b[0;32m    291\u001b[0m \u001b[43m        \u001b[49m\u001b[43mweight\u001b[49m\u001b[38;5;241;43m=\u001b[39;49m\u001b[43msample_weight\u001b[49m\u001b[43m,\u001b[49m\n\u001b[0;32m    292\u001b[0m \u001b[43m        \u001b[49m\u001b[43mbase_margin\u001b[49m\u001b[38;5;241;43m=\u001b[39;49m\u001b[43mbase_margin\u001b[49m\u001b[43m,\u001b[49m\n\u001b[0;32m    293\u001b[0m \u001b[43m        \u001b[49m\u001b[43mfeature_weights\u001b[49m\u001b[38;5;241;43m=\u001b[39;49m\u001b[43mfeature_weights\u001b[49m\u001b[43m,\u001b[49m\n\u001b[0;32m    294\u001b[0m \u001b[43m        \u001b[49m\u001b[43mmissing\u001b[49m\u001b[38;5;241;43m=\u001b[39;49m\u001b[43mmissing\u001b[49m\u001b[43m,\u001b[49m\n\u001b[0;32m    295\u001b[0m \u001b[43m        \u001b[49m\u001b[43menable_categorical\u001b[49m\u001b[38;5;241;43m=\u001b[39;49m\u001b[43menable_categorical\u001b[49m\u001b[43m,\u001b[49m\n\u001b[0;32m    296\u001b[0m \u001b[43m    \u001b[49m\u001b[43m)\u001b[49m\n\u001b[0;32m    298\u001b[0m     n_validation \u001b[38;5;241m=\u001b[39m \u001b[38;5;241m0\u001b[39m \u001b[38;5;28;01mif\u001b[39;00m eval_set \u001b[38;5;129;01mis\u001b[39;00m \u001b[38;5;28;01mNone\u001b[39;00m \u001b[38;5;28;01melse\u001b[39;00m \u001b[38;5;28mlen\u001b[39m(eval_set)\n\u001b[0;32m    300\u001b[0m     \u001b[38;5;28;01mdef\u001b[39;00m \u001b[38;5;21mvalidate_or_none\u001b[39m(meta: Optional[List], name: \u001b[38;5;28mstr\u001b[39m) \u001b[38;5;241m-\u001b[39m\u001b[38;5;241m>\u001b[39m List:\n",
      "File \u001b[1;32m~\\Anaconda3\\lib\\site-packages\\xgboost\\sklearn.py:775\u001b[0m, in \u001b[0;36mXGBModel.fit.<locals>.<lambda>\u001b[1;34m(**kwargs)\u001b[0m\n\u001b[0;32m    687\u001b[0m \u001b[38;5;124;03m\"\"\"Fit gradient boosting model.\u001b[39;00m\n\u001b[0;32m    688\u001b[0m \n\u001b[0;32m    689\u001b[0m \u001b[38;5;124;03mNote that calling ``fit()`` multiple times will cause the model object to be\u001b[39;00m\n\u001b[1;32m   (...)\u001b[0m\n\u001b[0;32m    758\u001b[0m \n\u001b[0;32m    759\u001b[0m \u001b[38;5;124;03m\"\"\"\u001b[39;00m\n\u001b[0;32m    760\u001b[0m evals_result: TrainingCallback\u001b[38;5;241m.\u001b[39mEvalsLog \u001b[38;5;241m=\u001b[39m {}\n\u001b[0;32m    761\u001b[0m train_dmatrix, evals \u001b[38;5;241m=\u001b[39m _wrap_evaluation_matrices(\n\u001b[0;32m    762\u001b[0m     missing\u001b[38;5;241m=\u001b[39m\u001b[38;5;28mself\u001b[39m\u001b[38;5;241m.\u001b[39mmissing,\n\u001b[0;32m    763\u001b[0m     X\u001b[38;5;241m=\u001b[39mX,\n\u001b[0;32m    764\u001b[0m     y\u001b[38;5;241m=\u001b[39my,\n\u001b[0;32m    765\u001b[0m     group\u001b[38;5;241m=\u001b[39m\u001b[38;5;28;01mNone\u001b[39;00m,\n\u001b[0;32m    766\u001b[0m     qid\u001b[38;5;241m=\u001b[39m\u001b[38;5;28;01mNone\u001b[39;00m,\n\u001b[0;32m    767\u001b[0m     sample_weight\u001b[38;5;241m=\u001b[39msample_weight,\n\u001b[0;32m    768\u001b[0m     base_margin\u001b[38;5;241m=\u001b[39mbase_margin,\n\u001b[0;32m    769\u001b[0m     feature_weights\u001b[38;5;241m=\u001b[39mfeature_weights,\n\u001b[0;32m    770\u001b[0m     eval_set\u001b[38;5;241m=\u001b[39meval_set,\n\u001b[0;32m    771\u001b[0m     sample_weight_eval_set\u001b[38;5;241m=\u001b[39msample_weight_eval_set,\n\u001b[0;32m    772\u001b[0m     base_margin_eval_set\u001b[38;5;241m=\u001b[39mbase_margin_eval_set,\n\u001b[0;32m    773\u001b[0m     eval_group\u001b[38;5;241m=\u001b[39m\u001b[38;5;28;01mNone\u001b[39;00m,\n\u001b[0;32m    774\u001b[0m     eval_qid\u001b[38;5;241m=\u001b[39m\u001b[38;5;28;01mNone\u001b[39;00m,\n\u001b[1;32m--> 775\u001b[0m     create_dmatrix\u001b[38;5;241m=\u001b[39m\u001b[38;5;28;01mlambda\u001b[39;00m \u001b[38;5;241m*\u001b[39m\u001b[38;5;241m*\u001b[39mkwargs: DMatrix(nthread\u001b[38;5;241m=\u001b[39m\u001b[38;5;28mself\u001b[39m\u001b[38;5;241m.\u001b[39mn_jobs, \u001b[38;5;241m*\u001b[39m\u001b[38;5;241m*\u001b[39mkwargs),\n\u001b[0;32m    776\u001b[0m     enable_categorical\u001b[38;5;241m=\u001b[39m\u001b[38;5;28mself\u001b[39m\u001b[38;5;241m.\u001b[39menable_categorical,\n\u001b[0;32m    777\u001b[0m )\n\u001b[0;32m    778\u001b[0m params \u001b[38;5;241m=\u001b[39m \u001b[38;5;28mself\u001b[39m\u001b[38;5;241m.\u001b[39mget_xgb_params()\n\u001b[0;32m    780\u001b[0m \u001b[38;5;28;01mif\u001b[39;00m callable(\u001b[38;5;28mself\u001b[39m\u001b[38;5;241m.\u001b[39mobjective):\n",
      "File \u001b[1;32m~\\Anaconda3\\lib\\site-packages\\xgboost\\core.py:506\u001b[0m, in \u001b[0;36m_deprecate_positional_args.<locals>.inner_f\u001b[1;34m(*args, **kwargs)\u001b[0m\n\u001b[0;32m    504\u001b[0m \u001b[38;5;28;01mfor\u001b[39;00m k, arg \u001b[38;5;129;01min\u001b[39;00m \u001b[38;5;28mzip\u001b[39m(sig\u001b[38;5;241m.\u001b[39mparameters, args):\n\u001b[0;32m    505\u001b[0m     kwargs[k] \u001b[38;5;241m=\u001b[39m arg\n\u001b[1;32m--> 506\u001b[0m \u001b[38;5;28;01mreturn\u001b[39;00m f(\u001b[38;5;241m*\u001b[39m\u001b[38;5;241m*\u001b[39mkwargs)\n",
      "File \u001b[1;32m~\\Anaconda3\\lib\\site-packages\\xgboost\\core.py:616\u001b[0m, in \u001b[0;36mDMatrix.__init__\u001b[1;34m(self, data, label, weight, base_margin, missing, silent, feature_names, feature_types, nthread, group, qid, label_lower_bound, label_upper_bound, feature_weights, enable_categorical)\u001b[0m\n\u001b[0;32m    613\u001b[0m     \u001b[38;5;28;01massert\u001b[39;00m \u001b[38;5;28mself\u001b[39m\u001b[38;5;241m.\u001b[39mhandle \u001b[38;5;129;01mis\u001b[39;00m \u001b[38;5;129;01mnot\u001b[39;00m \u001b[38;5;28;01mNone\u001b[39;00m\n\u001b[0;32m    614\u001b[0m     \u001b[38;5;28;01mreturn\u001b[39;00m\n\u001b[1;32m--> 616\u001b[0m handle, feature_names, feature_types \u001b[38;5;241m=\u001b[39m \u001b[43mdispatch_data_backend\u001b[49m\u001b[43m(\u001b[49m\n\u001b[0;32m    617\u001b[0m \u001b[43m    \u001b[49m\u001b[43mdata\u001b[49m\u001b[43m,\u001b[49m\n\u001b[0;32m    618\u001b[0m \u001b[43m    \u001b[49m\u001b[43mmissing\u001b[49m\u001b[38;5;241;43m=\u001b[39;49m\u001b[38;5;28;43mself\u001b[39;49m\u001b[38;5;241;43m.\u001b[39;49m\u001b[43mmissing\u001b[49m\u001b[43m,\u001b[49m\n\u001b[0;32m    619\u001b[0m \u001b[43m    \u001b[49m\u001b[43mthreads\u001b[49m\u001b[38;5;241;43m=\u001b[39;49m\u001b[38;5;28;43mself\u001b[39;49m\u001b[38;5;241;43m.\u001b[39;49m\u001b[43mnthread\u001b[49m\u001b[43m,\u001b[49m\n\u001b[0;32m    620\u001b[0m \u001b[43m    \u001b[49m\u001b[43mfeature_names\u001b[49m\u001b[38;5;241;43m=\u001b[39;49m\u001b[43mfeature_names\u001b[49m\u001b[43m,\u001b[49m\n\u001b[0;32m    621\u001b[0m \u001b[43m    \u001b[49m\u001b[43mfeature_types\u001b[49m\u001b[38;5;241;43m=\u001b[39;49m\u001b[43mfeature_types\u001b[49m\u001b[43m,\u001b[49m\n\u001b[0;32m    622\u001b[0m \u001b[43m    \u001b[49m\u001b[43menable_categorical\u001b[49m\u001b[38;5;241;43m=\u001b[39;49m\u001b[43menable_categorical\u001b[49m\u001b[43m,\u001b[49m\n\u001b[0;32m    623\u001b[0m \u001b[43m\u001b[49m\u001b[43m)\u001b[49m\n\u001b[0;32m    624\u001b[0m \u001b[38;5;28;01massert\u001b[39;00m handle \u001b[38;5;129;01mis\u001b[39;00m \u001b[38;5;129;01mnot\u001b[39;00m \u001b[38;5;28;01mNone\u001b[39;00m\n\u001b[0;32m    625\u001b[0m \u001b[38;5;28mself\u001b[39m\u001b[38;5;241m.\u001b[39mhandle \u001b[38;5;241m=\u001b[39m handle\n",
      "File \u001b[1;32m~\\Anaconda3\\lib\\site-packages\\xgboost\\data.py:707\u001b[0m, in \u001b[0;36mdispatch_data_backend\u001b[1;34m(data, missing, threads, feature_names, feature_types, enable_categorical)\u001b[0m\n\u001b[0;32m    705\u001b[0m     \u001b[38;5;28;01mreturn\u001b[39;00m _from_tuple(data, missing, threads, feature_names, feature_types)\n\u001b[0;32m    706\u001b[0m \u001b[38;5;28;01mif\u001b[39;00m _is_pandas_df(data):\n\u001b[1;32m--> 707\u001b[0m     \u001b[38;5;28;01mreturn\u001b[39;00m \u001b[43m_from_pandas_df\u001b[49m\u001b[43m(\u001b[49m\u001b[43mdata\u001b[49m\u001b[43m,\u001b[49m\u001b[43m \u001b[49m\u001b[43menable_categorical\u001b[49m\u001b[43m,\u001b[49m\u001b[43m \u001b[49m\u001b[43mmissing\u001b[49m\u001b[43m,\u001b[49m\u001b[43m \u001b[49m\u001b[43mthreads\u001b[49m\u001b[43m,\u001b[49m\n\u001b[0;32m    708\u001b[0m \u001b[43m                           \u001b[49m\u001b[43mfeature_names\u001b[49m\u001b[43m,\u001b[49m\u001b[43m \u001b[49m\u001b[43mfeature_types\u001b[49m\u001b[43m)\u001b[49m\n\u001b[0;32m    709\u001b[0m \u001b[38;5;28;01mif\u001b[39;00m _is_pandas_series(data):\n\u001b[0;32m    710\u001b[0m     \u001b[38;5;28;01mreturn\u001b[39;00m _from_pandas_series(data, missing, threads, feature_names,\n\u001b[0;32m    711\u001b[0m                                feature_types)\n",
      "File \u001b[1;32m~\\Anaconda3\\lib\\site-packages\\xgboost\\data.py:297\u001b[0m, in \u001b[0;36m_from_pandas_df\u001b[1;34m(data, enable_categorical, missing, nthread, feature_names, feature_types)\u001b[0m\n\u001b[0;32m    289\u001b[0m \u001b[38;5;28;01mdef\u001b[39;00m \u001b[38;5;21m_from_pandas_df\u001b[39m(\n\u001b[0;32m    290\u001b[0m     data,\n\u001b[0;32m    291\u001b[0m     enable_categorical: \u001b[38;5;28mbool\u001b[39m,\n\u001b[1;32m   (...)\u001b[0m\n\u001b[0;32m    295\u001b[0m     feature_types: Optional[List[\u001b[38;5;28mstr\u001b[39m]],\n\u001b[0;32m    296\u001b[0m ):\n\u001b[1;32m--> 297\u001b[0m     data, feature_names, feature_types \u001b[38;5;241m=\u001b[39m \u001b[43m_transform_pandas_df\u001b[49m\u001b[43m(\u001b[49m\n\u001b[0;32m    298\u001b[0m \u001b[43m        \u001b[49m\u001b[43mdata\u001b[49m\u001b[43m,\u001b[49m\u001b[43m \u001b[49m\u001b[43menable_categorical\u001b[49m\u001b[43m,\u001b[49m\u001b[43m \u001b[49m\u001b[43mfeature_names\u001b[49m\u001b[43m,\u001b[49m\u001b[43m \u001b[49m\u001b[43mfeature_types\u001b[49m\u001b[43m)\u001b[49m\n\u001b[0;32m    299\u001b[0m     \u001b[38;5;28;01mreturn\u001b[39;00m _from_numpy_array(data, missing, nthread, feature_names,\n\u001b[0;32m    300\u001b[0m                              feature_types)\n",
      "File \u001b[1;32m~\\Anaconda3\\lib\\site-packages\\xgboost\\data.py:250\u001b[0m, in \u001b[0;36m_transform_pandas_df\u001b[1;34m(data, enable_categorical, feature_names, feature_types, meta, meta_type)\u001b[0m\n\u001b[0;32m    246\u001b[0m \u001b[38;5;28;01mif\u001b[39;00m \u001b[38;5;28misinstance\u001b[39m(data\u001b[38;5;241m.\u001b[39mcolumns, pd\u001b[38;5;241m.\u001b[39mMultiIndex):\n\u001b[0;32m    247\u001b[0m     feature_names \u001b[38;5;241m=\u001b[39m [\n\u001b[0;32m    248\u001b[0m         \u001b[38;5;124m'\u001b[39m\u001b[38;5;124m \u001b[39m\u001b[38;5;124m'\u001b[39m\u001b[38;5;241m.\u001b[39mjoin([\u001b[38;5;28mstr\u001b[39m(x) \u001b[38;5;28;01mfor\u001b[39;00m x \u001b[38;5;129;01min\u001b[39;00m i]) \u001b[38;5;28;01mfor\u001b[39;00m i \u001b[38;5;129;01min\u001b[39;00m data\u001b[38;5;241m.\u001b[39mcolumns\n\u001b[0;32m    249\u001b[0m     ]\n\u001b[1;32m--> 250\u001b[0m \u001b[38;5;28;01melif\u001b[39;00m \u001b[38;5;28misinstance\u001b[39m(data\u001b[38;5;241m.\u001b[39mcolumns, (\u001b[43mpd\u001b[49m\u001b[38;5;241;43m.\u001b[39;49m\u001b[43mInt64Index\u001b[49m, pd\u001b[38;5;241m.\u001b[39mRangeIndex)):\n\u001b[0;32m    251\u001b[0m     feature_names \u001b[38;5;241m=\u001b[39m \u001b[38;5;28mlist\u001b[39m(\u001b[38;5;28mmap\u001b[39m(\u001b[38;5;28mstr\u001b[39m, data\u001b[38;5;241m.\u001b[39mcolumns))\n\u001b[0;32m    252\u001b[0m \u001b[38;5;28;01melse\u001b[39;00m:\n",
      "\u001b[1;31mAttributeError\u001b[0m: module 'pandas' has no attribute 'Int64Index'"
     ]
    }
   ],
   "source": [
    "import numpy as np\n",
    "import matplotlib.pyplot as plt\n",
    "from sklearn.model_selection import learning_curve\n",
    "from sklearn.metrics import median_absolute_error\n",
    "import xgboost as xgb\n",
    "from sklearn.model_selection import train_test_split\n",
    "\n",
    "# Assuming you have X_train_scaled, y_train1, X_val_scaled, y_val1, and best_params\n",
    "# Update best_params with regularization parameters\n",
    "best_params = {\n",
    "    'learning_rate': 0.1,\n",
    "    'n_estimators': 100,\n",
    "    'max_depth': 7,\n",
    "    'min_child_weight': 3,\n",
    "    'subsample': 0.9,\n",
    "    'colsample_bytree': 0.8,\n",
    "    'reg_alpha': 0.8,  # Example value, you can tune this\n",
    "    'reg_lambda': 0.1  # Example value, you can tune this\n",
    "}\n",
    "\n",
    "# Create and train the regularized XGBoost model\n",
    "xgb_reg_model = xgb.XGBRegressor(**best_params)\n",
    "\n",
    "# Assuming you have X_train_scaled, y_train1, X_val_scaled, y_val1\n",
    "X_train_scaled, X_val_scaled, y_train1, y_val1 = train_test_split(X, y, test_size=0.2, random_state=42)\n",
    "\n",
    "# Fit the model to the training data\n",
    "xgb_reg_model.fit(X_train_scaled, y_train1)\n",
    "\n",
    "# Make predictions on the validation set\n",
    "predictions_xgb_reg = xgb_reg_model.predict(X_val_scaled)\n",
    "\n",
    "# Calculate Median Absolute Error for the regularized XGBoost model\n",
    "medae_xgb_reg = median_absolute_error(y_val1, predictions_xgb_reg)\n",
    "print(f'Median Absolute Error (XGBoost Regularized): {medae_xgb_reg}')\n",
    "\n",
    "# Plot learning curve\n",
    "def plot_learning_curve(model, X_train, y_train, X_val, y_val):\n",
    "    train_sizes, train_scores, validation_scores = learning_curve(\n",
    "        model, X_train, y_train, cv=3, scoring='neg_median_absolute_error', train_sizes=np.linspace(0.1, 1.0, 10)\n",
    "    )\n",
    "\n",
    "    train_scores_mean = -np.mean(train_scores, axis=1)\n",
    "    validation_scores_mean = -np.mean(validation_scores, axis=1)\n",
    "\n",
    "    plt.figure(figsize=(10, 6))\n",
    "    plt.plot(train_sizes, train_scores_mean, label='Training Error')\n",
    "    plt.plot(train_sizes, validation_scores_mean, label='Validation Error')\n",
    "\n",
    "    plt.title('Learning Curve')\n",
    "    plt.xlabel('Training Examples')\n",
    "    plt.ylabel('Median Absolute Error')\n",
    "    plt.legend()\n",
    "    plt.grid(True)\n",
    "    plt.show()\n",
    "\n",
    "# Plot the learning curve\n",
    "plot_learning_curve(xgb_reg_model, X_train_scaled, y_train1, X_val_scaled, y_val1)\n"
   ]
  },
  {
   "cell_type": "code",
   "execution_count": 142,
   "id": "ee9c3845",
   "metadata": {},
   "outputs": [
    {
     "data": {
      "text/html": [
       "<style>#sk-container-id-2 {color: black;background-color: white;}#sk-container-id-2 pre{padding: 0;}#sk-container-id-2 div.sk-toggleable {background-color: white;}#sk-container-id-2 label.sk-toggleable__label {cursor: pointer;display: block;width: 100%;margin-bottom: 0;padding: 0.3em;box-sizing: border-box;text-align: center;}#sk-container-id-2 label.sk-toggleable__label-arrow:before {content: \"▸\";float: left;margin-right: 0.25em;color: #696969;}#sk-container-id-2 label.sk-toggleable__label-arrow:hover:before {color: black;}#sk-container-id-2 div.sk-estimator:hover label.sk-toggleable__label-arrow:before {color: black;}#sk-container-id-2 div.sk-toggleable__content {max-height: 0;max-width: 0;overflow: hidden;text-align: left;background-color: #f0f8ff;}#sk-container-id-2 div.sk-toggleable__content pre {margin: 0.2em;color: black;border-radius: 0.25em;background-color: #f0f8ff;}#sk-container-id-2 input.sk-toggleable__control:checked~div.sk-toggleable__content {max-height: 200px;max-width: 100%;overflow: auto;}#sk-container-id-2 input.sk-toggleable__control:checked~label.sk-toggleable__label-arrow:before {content: \"▾\";}#sk-container-id-2 div.sk-estimator input.sk-toggleable__control:checked~label.sk-toggleable__label {background-color: #d4ebff;}#sk-container-id-2 div.sk-label input.sk-toggleable__control:checked~label.sk-toggleable__label {background-color: #d4ebff;}#sk-container-id-2 input.sk-hidden--visually {border: 0;clip: rect(1px 1px 1px 1px);clip: rect(1px, 1px, 1px, 1px);height: 1px;margin: -1px;overflow: hidden;padding: 0;position: absolute;width: 1px;}#sk-container-id-2 div.sk-estimator {font-family: monospace;background-color: #f0f8ff;border: 1px dotted black;border-radius: 0.25em;box-sizing: border-box;margin-bottom: 0.5em;}#sk-container-id-2 div.sk-estimator:hover {background-color: #d4ebff;}#sk-container-id-2 div.sk-parallel-item::after {content: \"\";width: 100%;border-bottom: 1px solid gray;flex-grow: 1;}#sk-container-id-2 div.sk-label:hover label.sk-toggleable__label {background-color: #d4ebff;}#sk-container-id-2 div.sk-serial::before {content: \"\";position: absolute;border-left: 1px solid gray;box-sizing: border-box;top: 0;bottom: 0;left: 50%;z-index: 0;}#sk-container-id-2 div.sk-serial {display: flex;flex-direction: column;align-items: center;background-color: white;padding-right: 0.2em;padding-left: 0.2em;position: relative;}#sk-container-id-2 div.sk-item {position: relative;z-index: 1;}#sk-container-id-2 div.sk-parallel {display: flex;align-items: stretch;justify-content: center;background-color: white;position: relative;}#sk-container-id-2 div.sk-item::before, #sk-container-id-2 div.sk-parallel-item::before {content: \"\";position: absolute;border-left: 1px solid gray;box-sizing: border-box;top: 0;bottom: 0;left: 50%;z-index: -1;}#sk-container-id-2 div.sk-parallel-item {display: flex;flex-direction: column;z-index: 1;position: relative;background-color: white;}#sk-container-id-2 div.sk-parallel-item:first-child::after {align-self: flex-end;width: 50%;}#sk-container-id-2 div.sk-parallel-item:last-child::after {align-self: flex-start;width: 50%;}#sk-container-id-2 div.sk-parallel-item:only-child::after {width: 0;}#sk-container-id-2 div.sk-dashed-wrapped {border: 1px dashed gray;margin: 0 0.4em 0.5em 0.4em;box-sizing: border-box;padding-bottom: 0.4em;background-color: white;}#sk-container-id-2 div.sk-label label {font-family: monospace;font-weight: bold;display: inline-block;line-height: 1.2em;}#sk-container-id-2 div.sk-label-container {text-align: center;}#sk-container-id-2 div.sk-container {/* jupyter's `normalize.less` sets `[hidden] { display: none; }` but bootstrap.min.css set `[hidden] { display: none !important; }` so we also need the `!important` here to be able to override the default hidden behavior on the sphinx rendered scikit-learn.org. See: https://github.com/scikit-learn/scikit-learn/issues/21755 */display: inline-block !important;position: relative;}#sk-container-id-2 div.sk-text-repr-fallback {display: none;}</style><div id=\"sk-container-id-2\" class=\"sk-top-container\"><div class=\"sk-text-repr-fallback\"><pre>XGBRegressor(base_score=None, booster=None, colsample_bylevel=None,\n",
       "             colsample_bynode=None, colsample_bytree=0.8,\n",
       "             enable_categorical=False, gamma=None, gpu_id=None,\n",
       "             importance_type=None, interaction_constraints=None,\n",
       "             learning_rate=0.1, max_delta_step=None, max_depth=7,\n",
       "             min_child_weight=3, missing=nan, monotone_constraints=None,\n",
       "             n_estimators=100, n_jobs=None, num_parallel_tree=None,\n",
       "             predictor=None, random_state=None, reg_alpha=0.8, reg_lambda=0.1,\n",
       "             scale_pos_weight=None, subsample=0.9, tree_method=None,\n",
       "             validate_parameters=None, verbosity=None)</pre><b>In a Jupyter environment, please rerun this cell to show the HTML representation or trust the notebook. <br />On GitHub, the HTML representation is unable to render, please try loading this page with nbviewer.org.</b></div><div class=\"sk-container\" hidden><div class=\"sk-item\"><div class=\"sk-estimator sk-toggleable\"><input class=\"sk-toggleable__control sk-hidden--visually\" id=\"sk-estimator-id-2\" type=\"checkbox\" checked><label for=\"sk-estimator-id-2\" class=\"sk-toggleable__label sk-toggleable__label-arrow\">XGBRegressor</label><div class=\"sk-toggleable__content\"><pre>XGBRegressor(base_score=None, booster=None, colsample_bylevel=None,\n",
       "             colsample_bynode=None, colsample_bytree=0.8,\n",
       "             enable_categorical=False, gamma=None, gpu_id=None,\n",
       "             importance_type=None, interaction_constraints=None,\n",
       "             learning_rate=0.1, max_delta_step=None, max_depth=7,\n",
       "             min_child_weight=3, missing=nan, monotone_constraints=None,\n",
       "             n_estimators=100, n_jobs=None, num_parallel_tree=None,\n",
       "             predictor=None, random_state=None, reg_alpha=0.8, reg_lambda=0.1,\n",
       "             scale_pos_weight=None, subsample=0.9, tree_method=None,\n",
       "             validate_parameters=None, verbosity=None)</pre></div></div></div></div></div>"
      ],
      "text/plain": [
       "XGBRegressor(base_score=None, booster=None, colsample_bylevel=None,\n",
       "             colsample_bynode=None, colsample_bytree=0.8,\n",
       "             enable_categorical=False, gamma=None, gpu_id=None,\n",
       "             importance_type=None, interaction_constraints=None,\n",
       "             learning_rate=0.1, max_delta_step=None, max_depth=7,\n",
       "             min_child_weight=3, missing=nan, monotone_constraints=None,\n",
       "             n_estimators=100, n_jobs=None, num_parallel_tree=None,\n",
       "             predictor=None, random_state=None, reg_alpha=0.8, reg_lambda=0.1,\n",
       "             scale_pos_weight=None, subsample=0.9, tree_method=None,\n",
       "             validate_parameters=None, verbosity=None)"
      ]
     },
     "execution_count": 142,
     "metadata": {},
     "output_type": "execute_result"
    }
   ],
   "source": [
    "xgb_reg_model"
   ]
  },
  {
   "cell_type": "code",
   "execution_count": 143,
   "id": "99817356",
   "metadata": {},
   "outputs": [
    {
     "data": {
      "image/png": "[encoded data removed]",
      "text/plain": [
       "<Figure size 1000x600 with 1 Axes>"
      ]
     },
     "metadata": {},
     "output_type": "display_data"
    }
   ],
   "source": [
    "from sklearn.model_selection import learning_curve\n",
    "\n",
    "\n",
    "# Plot learning curve\n",
    "def plot_learning_curve(model, X_train, y_train, X_val, y_val):\n",
    "    train_sizes, train_scores, validation_scores = learning_curve(\n",
    "        model, X_train, y_train, cv=3, scoring='neg_median_absolute_error', train_sizes=np.linspace(0.1, 1.0, 10)\n",
    "    )\n",
    "\n",
    "    train_scores_mean = -np.mean(train_scores, axis=1)\n",
    "    validation_scores_mean = -np.mean(validation_scores, axis=1)\n",
    "\n",
    "    plt.figure(figsize=(10, 6))\n",
    "    plt.plot(train_sizes, train_scores_mean, label='Training Error')\n",
    "    plt.plot(train_sizes, validation_scores_mean, label='Validation Error')\n",
    "\n",
    "    plt.title('Learning Curve')\n",
    "    plt.xlabel('Training Examples')\n",
    "    plt.ylabel('Median Absolute Error')\n",
    "    plt.legend()\n",
    "    plt.grid(True)\n",
    "    plt.show()\n",
    "\n",
    "# Plot the learning curve\n",
    "plot_learning_curve(xgb_reg_model, X_train_scaled, y_train1, X_val_scaled, y_val1)"
   ]
  },
  {
   "cell_type": "code",
   "execution_count": null,
   "id": "a7f99da5",
   "metadata": {},
   "outputs": [],
   "source": []
  }
 ],
 "metadata": {
  "kernelspec": {
   "display_name": "Python 3 (ipykernel)",
   "language": "python",
   "name": "python3"
  },
  "language_info": {
   "codemirror_mode": {
    "name": "ipython",
    "version": 3
   },
   "file_extension": ".py",
   "mimetype": "text/x-python",
   "name": "python",
   "nbconvert_exporter": "python",
   "pygments_lexer": "ipython3",
   "version": "3.9.7"
  }
 },
 "nbformat": 4,
 "nbformat_minor": 5
}
